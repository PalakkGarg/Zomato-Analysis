{
 "cells": [
  {
   "cell_type": "code",
   "execution_count": 107,
   "id": "0751b344",
   "metadata": {},
   "outputs": [],
   "source": [
    "import numpy as np\n",
    "import pandas as pd\n",
    "import matplotlib.pyplot as plt\n",
    "import seaborn as sns\n",
    "\n",
    "### so that we dont have warnings\n",
    "from warnings import filterwarnings\n",
    "filterwarnings('ignore')"
   ]
  },
  {
   "cell_type": "markdown",
   "id": "861d6bdb",
   "metadata": {},
   "source": [
    "Columns Description\n",
    "\n",
    "url: contains the url of the restaurant in the zomato website\n",
    "\n",
    "address=contains the address of the restaurant in Bengaluru\n",
    "\n",
    "name: contains the name of the restaurant\n",
    "\n",
    "online_order=whether online ordering is available in the restaurant or not\n",
    "\n",
    "book_table=table book option available or not\n",
    "\n",
    "rate=contains the overall rating of the restaurant out of 5\n",
    "\n",
    "votes=contains total number of rating for the restaurant as of the above mentioned date\n",
    "\n",
    "phone=contains the phone number of the restaurant\n",
    "\n",
    "location=contains the neighborhood in which the restaurant is located\n",
    "\n",
    "rest_type=restaurant type\n",
    "\n",
    "dish_liked=dishes people liked in the restaurant\n",
    "\n",
    "cuisines=food styles, separated by comma\n",
    "\n",
    "approx_cost(for two people)=contains the approximate cost for meal for two people\n",
    "\n",
    "reviews_list=list of tuples containing reviews for the restaurant, each tuple consists of two values,\n",
    "rating and review by the customer\n",
    " \n",
    "menu_item=contains list of menus available in the restaurant\n",
    "\n",
    "listed_in(type)=type of meal\n",
    "\n",
    "listed_in(city)contains the neighborhood in which the restaurant is listed"
   ]
  },
  {
   "cell_type": "code",
   "execution_count": 2,
   "id": "f6387699",
   "metadata": {},
   "outputs": [],
   "source": [
    "df = pd.read_csv(r\"C:\\Users\\HP\\Downloads\\Zomato-Analysis-main\\Zomato-Analysis-main\\zomato.csv\")"
   ]
  },
  {
   "cell_type": "code",
   "execution_count": 3,
   "id": "03fcb7fa",
   "metadata": {},
   "outputs": [
    {
     "data": {
      "text/html": [
       "<div>\n",
       "<style scoped>\n",
       "    .dataframe tbody tr th:only-of-type {\n",
       "        vertical-align: middle;\n",
       "    }\n",
       "\n",
       "    .dataframe tbody tr th {\n",
       "        vertical-align: top;\n",
       "    }\n",
       "\n",
       "    .dataframe thead th {\n",
       "        text-align: right;\n",
       "    }\n",
       "</style>\n",
       "<table border=\"1\" class=\"dataframe\">\n",
       "  <thead>\n",
       "    <tr style=\"text-align: right;\">\n",
       "      <th></th>\n",
       "      <th>url</th>\n",
       "      <th>address</th>\n",
       "      <th>name</th>\n",
       "      <th>online_order</th>\n",
       "      <th>book_table</th>\n",
       "      <th>rate</th>\n",
       "      <th>votes</th>\n",
       "      <th>phone</th>\n",
       "      <th>location</th>\n",
       "      <th>rest_type</th>\n",
       "      <th>dish_liked</th>\n",
       "      <th>cuisines</th>\n",
       "      <th>approx_cost(for two people)</th>\n",
       "      <th>reviews_list</th>\n",
       "      <th>menu_item</th>\n",
       "      <th>listed_in(type)</th>\n",
       "      <th>listed_in(city)</th>\n",
       "    </tr>\n",
       "  </thead>\n",
       "  <tbody>\n",
       "    <tr>\n",
       "      <th>0</th>\n",
       "      <td>https://www.zomato.com/bangalore/jalsa-banasha...</td>\n",
       "      <td>942, 21st Main Road, 2nd Stage, Banashankari, ...</td>\n",
       "      <td>Jalsa</td>\n",
       "      <td>Yes</td>\n",
       "      <td>Yes</td>\n",
       "      <td>4.1/5</td>\n",
       "      <td>775</td>\n",
       "      <td>080 42297555\\r\\n+91 9743772233</td>\n",
       "      <td>Banashankari</td>\n",
       "      <td>Casual Dining</td>\n",
       "      <td>Pasta, Lunch Buffet, Masala Papad, Paneer Laja...</td>\n",
       "      <td>North Indian, Mughlai, Chinese</td>\n",
       "      <td>800</td>\n",
       "      <td>[('Rated 4.0', 'RATED\\n  A beautiful place to ...</td>\n",
       "      <td>[]</td>\n",
       "      <td>Buffet</td>\n",
       "      <td>Banashankari</td>\n",
       "    </tr>\n",
       "    <tr>\n",
       "      <th>1</th>\n",
       "      <td>https://www.zomato.com/bangalore/spice-elephan...</td>\n",
       "      <td>2nd Floor, 80 Feet Road, Near Big Bazaar, 6th ...</td>\n",
       "      <td>Spice Elephant</td>\n",
       "      <td>Yes</td>\n",
       "      <td>No</td>\n",
       "      <td>4.1/5</td>\n",
       "      <td>787</td>\n",
       "      <td>080 41714161</td>\n",
       "      <td>Banashankari</td>\n",
       "      <td>Casual Dining</td>\n",
       "      <td>Momos, Lunch Buffet, Chocolate Nirvana, Thai G...</td>\n",
       "      <td>Chinese, North Indian, Thai</td>\n",
       "      <td>800</td>\n",
       "      <td>[('Rated 4.0', 'RATED\\n  Had been here for din...</td>\n",
       "      <td>[]</td>\n",
       "      <td>Buffet</td>\n",
       "      <td>Banashankari</td>\n",
       "    </tr>\n",
       "    <tr>\n",
       "      <th>2</th>\n",
       "      <td>https://www.zomato.com/SanchurroBangalore?cont...</td>\n",
       "      <td>1112, Next to KIMS Medical College, 17th Cross...</td>\n",
       "      <td>San Churro Cafe</td>\n",
       "      <td>Yes</td>\n",
       "      <td>No</td>\n",
       "      <td>3.8/5</td>\n",
       "      <td>918</td>\n",
       "      <td>+91 9663487993</td>\n",
       "      <td>Banashankari</td>\n",
       "      <td>Cafe, Casual Dining</td>\n",
       "      <td>Churros, Cannelloni, Minestrone Soup, Hot Choc...</td>\n",
       "      <td>Cafe, Mexican, Italian</td>\n",
       "      <td>800</td>\n",
       "      <td>[('Rated 3.0', \"RATED\\n  Ambience is not that ...</td>\n",
       "      <td>[]</td>\n",
       "      <td>Buffet</td>\n",
       "      <td>Banashankari</td>\n",
       "    </tr>\n",
       "    <tr>\n",
       "      <th>3</th>\n",
       "      <td>https://www.zomato.com/bangalore/addhuri-udupi...</td>\n",
       "      <td>1st Floor, Annakuteera, 3rd Stage, Banashankar...</td>\n",
       "      <td>Addhuri Udupi Bhojana</td>\n",
       "      <td>No</td>\n",
       "      <td>No</td>\n",
       "      <td>3.7/5</td>\n",
       "      <td>88</td>\n",
       "      <td>+91 9620009302</td>\n",
       "      <td>Banashankari</td>\n",
       "      <td>Quick Bites</td>\n",
       "      <td>Masala Dosa</td>\n",
       "      <td>South Indian, North Indian</td>\n",
       "      <td>300</td>\n",
       "      <td>[('Rated 4.0', \"RATED\\n  Great food and proper...</td>\n",
       "      <td>[]</td>\n",
       "      <td>Buffet</td>\n",
       "      <td>Banashankari</td>\n",
       "    </tr>\n",
       "    <tr>\n",
       "      <th>4</th>\n",
       "      <td>https://www.zomato.com/bangalore/grand-village...</td>\n",
       "      <td>10, 3rd Floor, Lakshmi Associates, Gandhi Baza...</td>\n",
       "      <td>Grand Village</td>\n",
       "      <td>No</td>\n",
       "      <td>No</td>\n",
       "      <td>3.8/5</td>\n",
       "      <td>166</td>\n",
       "      <td>+91 8026612447\\r\\n+91 9901210005</td>\n",
       "      <td>Basavanagudi</td>\n",
       "      <td>Casual Dining</td>\n",
       "      <td>Panipuri, Gol Gappe</td>\n",
       "      <td>North Indian, Rajasthani</td>\n",
       "      <td>600</td>\n",
       "      <td>[('Rated 4.0', 'RATED\\n  Very good restaurant ...</td>\n",
       "      <td>[]</td>\n",
       "      <td>Buffet</td>\n",
       "      <td>Banashankari</td>\n",
       "    </tr>\n",
       "  </tbody>\n",
       "</table>\n",
       "</div>"
      ],
      "text/plain": [
       "                                                 url  \\\n",
       "0  https://www.zomato.com/bangalore/jalsa-banasha...   \n",
       "1  https://www.zomato.com/bangalore/spice-elephan...   \n",
       "2  https://www.zomato.com/SanchurroBangalore?cont...   \n",
       "3  https://www.zomato.com/bangalore/addhuri-udupi...   \n",
       "4  https://www.zomato.com/bangalore/grand-village...   \n",
       "\n",
       "                                             address                   name  \\\n",
       "0  942, 21st Main Road, 2nd Stage, Banashankari, ...                  Jalsa   \n",
       "1  2nd Floor, 80 Feet Road, Near Big Bazaar, 6th ...         Spice Elephant   \n",
       "2  1112, Next to KIMS Medical College, 17th Cross...        San Churro Cafe   \n",
       "3  1st Floor, Annakuteera, 3rd Stage, Banashankar...  Addhuri Udupi Bhojana   \n",
       "4  10, 3rd Floor, Lakshmi Associates, Gandhi Baza...          Grand Village   \n",
       "\n",
       "  online_order book_table   rate  votes                             phone  \\\n",
       "0          Yes        Yes  4.1/5    775    080 42297555\\r\\n+91 9743772233   \n",
       "1          Yes         No  4.1/5    787                      080 41714161   \n",
       "2          Yes         No  3.8/5    918                    +91 9663487993   \n",
       "3           No         No  3.7/5     88                    +91 9620009302   \n",
       "4           No         No  3.8/5    166  +91 8026612447\\r\\n+91 9901210005   \n",
       "\n",
       "       location            rest_type  \\\n",
       "0  Banashankari        Casual Dining   \n",
       "1  Banashankari        Casual Dining   \n",
       "2  Banashankari  Cafe, Casual Dining   \n",
       "3  Banashankari          Quick Bites   \n",
       "4  Basavanagudi        Casual Dining   \n",
       "\n",
       "                                          dish_liked  \\\n",
       "0  Pasta, Lunch Buffet, Masala Papad, Paneer Laja...   \n",
       "1  Momos, Lunch Buffet, Chocolate Nirvana, Thai G...   \n",
       "2  Churros, Cannelloni, Minestrone Soup, Hot Choc...   \n",
       "3                                        Masala Dosa   \n",
       "4                                Panipuri, Gol Gappe   \n",
       "\n",
       "                         cuisines approx_cost(for two people)  \\\n",
       "0  North Indian, Mughlai, Chinese                         800   \n",
       "1     Chinese, North Indian, Thai                         800   \n",
       "2          Cafe, Mexican, Italian                         800   \n",
       "3      South Indian, North Indian                         300   \n",
       "4        North Indian, Rajasthani                         600   \n",
       "\n",
       "                                        reviews_list menu_item  \\\n",
       "0  [('Rated 4.0', 'RATED\\n  A beautiful place to ...        []   \n",
       "1  [('Rated 4.0', 'RATED\\n  Had been here for din...        []   \n",
       "2  [('Rated 3.0', \"RATED\\n  Ambience is not that ...        []   \n",
       "3  [('Rated 4.0', \"RATED\\n  Great food and proper...        []   \n",
       "4  [('Rated 4.0', 'RATED\\n  Very good restaurant ...        []   \n",
       "\n",
       "  listed_in(type) listed_in(city)  \n",
       "0          Buffet    Banashankari  \n",
       "1          Buffet    Banashankari  \n",
       "2          Buffet    Banashankari  \n",
       "3          Buffet    Banashankari  \n",
       "4          Buffet    Banashankari  "
      ]
     },
     "execution_count": 3,
     "metadata": {},
     "output_type": "execute_result"
    }
   ],
   "source": [
    "df.head()"
   ]
  },
  {
   "cell_type": "code",
   "execution_count": 4,
   "id": "e6830dc4",
   "metadata": {},
   "outputs": [
    {
     "data": {
      "text/plain": [
       "(51717, 17)"
      ]
     },
     "execution_count": 4,
     "metadata": {},
     "output_type": "execute_result"
    }
   ],
   "source": [
    "df.shape"
   ]
  },
  {
   "cell_type": "code",
   "execution_count": 5,
   "id": "272405d4",
   "metadata": {},
   "outputs": [
    {
     "data": {
      "text/plain": [
       "url                            object\n",
       "address                        object\n",
       "name                           object\n",
       "online_order                   object\n",
       "book_table                     object\n",
       "rate                           object\n",
       "votes                           int64\n",
       "phone                          object\n",
       "location                       object\n",
       "rest_type                      object\n",
       "dish_liked                     object\n",
       "cuisines                       object\n",
       "approx_cost(for two people)    object\n",
       "reviews_list                   object\n",
       "menu_item                      object\n",
       "listed_in(type)                object\n",
       "listed_in(city)                object\n",
       "dtype: object"
      ]
     },
     "execution_count": 5,
     "metadata": {},
     "output_type": "execute_result"
    }
   ],
   "source": [
    "df.dtypes"
   ]
  },
  {
   "cell_type": "code",
   "execution_count": 6,
   "id": "6f4c1789",
   "metadata": {},
   "outputs": [
    {
     "data": {
      "text/plain": [
       "8792"
      ]
     },
     "execution_count": 6,
     "metadata": {},
     "output_type": "execute_result"
    }
   ],
   "source": [
    "len(df['name'].unique())"
   ]
  },
  {
   "cell_type": "code",
   "execution_count": 7,
   "id": "749c3e8e",
   "metadata": {},
   "outputs": [
    {
     "data": {
      "text/plain": [
       "url                                0\n",
       "address                            0\n",
       "name                               0\n",
       "online_order                       0\n",
       "book_table                         0\n",
       "rate                            7775\n",
       "votes                              0\n",
       "phone                           1208\n",
       "location                          21\n",
       "rest_type                        227\n",
       "dish_liked                     28078\n",
       "cuisines                          45\n",
       "approx_cost(for two people)      346\n",
       "reviews_list                       0\n",
       "menu_item                          0\n",
       "listed_in(type)                    0\n",
       "listed_in(city)                    0\n",
       "dtype: int64"
      ]
     },
     "execution_count": 7,
     "metadata": {},
     "output_type": "execute_result"
    }
   ],
   "source": [
    "df.isna().sum()"
   ]
  },
  {
   "cell_type": "markdown",
   "id": "f679bc0a",
   "metadata": {},
   "source": [
    "Getting all NAN features"
   ]
  },
  {
   "cell_type": "code",
   "execution_count": 8,
   "id": "43839520",
   "metadata": {},
   "outputs": [
    {
     "data": {
      "text/plain": [
       "['rate',\n",
       " 'phone',\n",
       " 'location',\n",
       " 'rest_type',\n",
       " 'dish_liked',\n",
       " 'cuisines',\n",
       " 'approx_cost(for two people)']"
      ]
     },
     "execution_count": 8,
     "metadata": {},
     "output_type": "execute_result"
    }
   ],
   "source": [
    "feature_na = [feature for feature in df.columns if df[feature].isnull().sum()>0]\n",
    "feature_na"
   ]
  },
  {
   "cell_type": "code",
   "execution_count": 9,
   "id": "7693878e",
   "metadata": {},
   "outputs": [
    {
     "name": "stdout",
     "output_type": "stream",
     "text": [
      "rate has 15.0337 % missing values\n",
      "phone has 2.3358 % missing values\n",
      "location has 0.0406 % missing values\n",
      "rest_type has 0.4389 % missing values\n",
      "dish_liked has 54.2916 % missing values\n",
      "cuisines has 0.087 % missing values\n",
      "approx_cost(for two people) has 0.669 % missing values\n"
     ]
    }
   ],
   "source": [
    "# % of missing values\n",
    "for feature in feature_na:\n",
    "    print('{} has {} % missing values'.format(feature,np.round(df[feature].isnull().sum()/len(df)*100,4)))"
   ]
  },
  {
   "cell_type": "code",
   "execution_count": 10,
   "id": "c57092c8",
   "metadata": {},
   "outputs": [
    {
     "data": {
      "text/plain": [
       "array(['4.1/5', '3.8/5', '3.7/5', '3.6/5', '4.6/5', '4.0/5', '4.2/5',\n",
       "       '3.9/5', '3.1/5', '3.0/5', '3.2/5', '3.3/5', '2.8/5', '4.4/5',\n",
       "       '4.3/5', 'NEW', '2.9/5', '3.5/5', nan, '2.6/5', '3.8 /5', '3.4/5',\n",
       "       '4.5/5', '2.5/5', '2.7/5', '4.7/5', '2.4/5', '2.2/5', '2.3/5',\n",
       "       '3.4 /5', '-', '3.6 /5', '4.8/5', '3.9 /5', '4.2 /5', '4.0 /5',\n",
       "       '4.1 /5', '3.7 /5', '3.1 /5', '2.9 /5', '3.3 /5', '2.8 /5',\n",
       "       '3.5 /5', '2.7 /5', '2.5 /5', '3.2 /5', '2.6 /5', '4.5 /5',\n",
       "       '4.3 /5', '4.4 /5', '4.9/5', '2.1/5', '2.0/5', '1.8/5', '4.6 /5',\n",
       "       '4.9 /5', '3.0 /5', '4.8 /5', '2.3 /5', '4.7 /5', '2.4 /5',\n",
       "       '2.1 /5', '2.2 /5', '2.0 /5', '1.8 /5'], dtype=object)"
      ]
     },
     "execution_count": 10,
     "metadata": {},
     "output_type": "execute_result"
    }
   ],
   "source": [
    "df['rate'].unique()"
   ]
  },
  {
   "cell_type": "code",
   "execution_count": 11,
   "id": "38ffc7b4",
   "metadata": {},
   "outputs": [],
   "source": [
    "df.dropna(axis='index',subset=['rate'],inplace=True)"
   ]
  },
  {
   "cell_type": "code",
   "execution_count": 12,
   "id": "35a41765",
   "metadata": {},
   "outputs": [
    {
     "data": {
      "text/plain": [
       "(43942, 17)"
      ]
     },
     "execution_count": 12,
     "metadata": {},
     "output_type": "execute_result"
    }
   ],
   "source": [
    "df.shape"
   ]
  },
  {
   "cell_type": "code",
   "execution_count": 13,
   "id": "c410db3c",
   "metadata": {},
   "outputs": [
    {
     "data": {
      "text/plain": [
       "array(['4.1/5', '3.8/5', '3.7/5', '3.6/5', '4.6/5', '4.0/5', '4.2/5',\n",
       "       '3.9/5', '3.1/5', '3.0/5', '3.2/5', '3.3/5', '2.8/5', '4.4/5',\n",
       "       '4.3/5', 'NEW', '2.9/5', '3.5/5', '2.6/5', '3.8 /5', '3.4/5',\n",
       "       '4.5/5', '2.5/5', '2.7/5', '4.7/5', '2.4/5', '2.2/5', '2.3/5',\n",
       "       '3.4 /5', '-', '3.6 /5', '4.8/5', '3.9 /5', '4.2 /5', '4.0 /5',\n",
       "       '4.1 /5', '3.7 /5', '3.1 /5', '2.9 /5', '3.3 /5', '2.8 /5',\n",
       "       '3.5 /5', '2.7 /5', '2.5 /5', '3.2 /5', '2.6 /5', '4.5 /5',\n",
       "       '4.3 /5', '4.4 /5', '4.9/5', '2.1/5', '2.0/5', '1.8/5', '4.6 /5',\n",
       "       '4.9 /5', '3.0 /5', '4.8 /5', '2.3 /5', '4.7 /5', '2.4 /5',\n",
       "       '2.1 /5', '2.2 /5', '2.0 /5', '1.8 /5'], dtype=object)"
      ]
     },
     "execution_count": 13,
     "metadata": {},
     "output_type": "execute_result"
    }
   ],
   "source": [
    "df['rate'].unique()"
   ]
  },
  {
   "cell_type": "code",
   "execution_count": 14,
   "id": "0bdf73cd",
   "metadata": {},
   "outputs": [],
   "source": [
    "def split(x):\n",
    "    return x.split('/')[0]"
   ]
  },
  {
   "cell_type": "code",
   "execution_count": 15,
   "id": "378a8c10",
   "metadata": {},
   "outputs": [],
   "source": [
    "df['rate'] = df['rate'].apply(split)"
   ]
  },
  {
   "cell_type": "code",
   "execution_count": 16,
   "id": "30eecd64",
   "metadata": {},
   "outputs": [
    {
     "data": {
      "text/html": [
       "<div>\n",
       "<style scoped>\n",
       "    .dataframe tbody tr th:only-of-type {\n",
       "        vertical-align: middle;\n",
       "    }\n",
       "\n",
       "    .dataframe tbody tr th {\n",
       "        vertical-align: top;\n",
       "    }\n",
       "\n",
       "    .dataframe thead th {\n",
       "        text-align: right;\n",
       "    }\n",
       "</style>\n",
       "<table border=\"1\" class=\"dataframe\">\n",
       "  <thead>\n",
       "    <tr style=\"text-align: right;\">\n",
       "      <th></th>\n",
       "      <th>url</th>\n",
       "      <th>address</th>\n",
       "      <th>name</th>\n",
       "      <th>online_order</th>\n",
       "      <th>book_table</th>\n",
       "      <th>rate</th>\n",
       "      <th>votes</th>\n",
       "      <th>phone</th>\n",
       "      <th>location</th>\n",
       "      <th>rest_type</th>\n",
       "      <th>dish_liked</th>\n",
       "      <th>cuisines</th>\n",
       "      <th>approx_cost(for two people)</th>\n",
       "      <th>reviews_list</th>\n",
       "      <th>menu_item</th>\n",
       "      <th>listed_in(type)</th>\n",
       "      <th>listed_in(city)</th>\n",
       "    </tr>\n",
       "  </thead>\n",
       "  <tbody>\n",
       "    <tr>\n",
       "      <th>0</th>\n",
       "      <td>https://www.zomato.com/bangalore/jalsa-banasha...</td>\n",
       "      <td>942, 21st Main Road, 2nd Stage, Banashankari, ...</td>\n",
       "      <td>Jalsa</td>\n",
       "      <td>Yes</td>\n",
       "      <td>Yes</td>\n",
       "      <td>4.1</td>\n",
       "      <td>775</td>\n",
       "      <td>080 42297555\\r\\n+91 9743772233</td>\n",
       "      <td>Banashankari</td>\n",
       "      <td>Casual Dining</td>\n",
       "      <td>Pasta, Lunch Buffet, Masala Papad, Paneer Laja...</td>\n",
       "      <td>North Indian, Mughlai, Chinese</td>\n",
       "      <td>800</td>\n",
       "      <td>[('Rated 4.0', 'RATED\\n  A beautiful place to ...</td>\n",
       "      <td>[]</td>\n",
       "      <td>Buffet</td>\n",
       "      <td>Banashankari</td>\n",
       "    </tr>\n",
       "    <tr>\n",
       "      <th>1</th>\n",
       "      <td>https://www.zomato.com/bangalore/spice-elephan...</td>\n",
       "      <td>2nd Floor, 80 Feet Road, Near Big Bazaar, 6th ...</td>\n",
       "      <td>Spice Elephant</td>\n",
       "      <td>Yes</td>\n",
       "      <td>No</td>\n",
       "      <td>4.1</td>\n",
       "      <td>787</td>\n",
       "      <td>080 41714161</td>\n",
       "      <td>Banashankari</td>\n",
       "      <td>Casual Dining</td>\n",
       "      <td>Momos, Lunch Buffet, Chocolate Nirvana, Thai G...</td>\n",
       "      <td>Chinese, North Indian, Thai</td>\n",
       "      <td>800</td>\n",
       "      <td>[('Rated 4.0', 'RATED\\n  Had been here for din...</td>\n",
       "      <td>[]</td>\n",
       "      <td>Buffet</td>\n",
       "      <td>Banashankari</td>\n",
       "    </tr>\n",
       "    <tr>\n",
       "      <th>2</th>\n",
       "      <td>https://www.zomato.com/SanchurroBangalore?cont...</td>\n",
       "      <td>1112, Next to KIMS Medical College, 17th Cross...</td>\n",
       "      <td>San Churro Cafe</td>\n",
       "      <td>Yes</td>\n",
       "      <td>No</td>\n",
       "      <td>3.8</td>\n",
       "      <td>918</td>\n",
       "      <td>+91 9663487993</td>\n",
       "      <td>Banashankari</td>\n",
       "      <td>Cafe, Casual Dining</td>\n",
       "      <td>Churros, Cannelloni, Minestrone Soup, Hot Choc...</td>\n",
       "      <td>Cafe, Mexican, Italian</td>\n",
       "      <td>800</td>\n",
       "      <td>[('Rated 3.0', \"RATED\\n  Ambience is not that ...</td>\n",
       "      <td>[]</td>\n",
       "      <td>Buffet</td>\n",
       "      <td>Banashankari</td>\n",
       "    </tr>\n",
       "  </tbody>\n",
       "</table>\n",
       "</div>"
      ],
      "text/plain": [
       "                                                 url  \\\n",
       "0  https://www.zomato.com/bangalore/jalsa-banasha...   \n",
       "1  https://www.zomato.com/bangalore/spice-elephan...   \n",
       "2  https://www.zomato.com/SanchurroBangalore?cont...   \n",
       "\n",
       "                                             address             name  \\\n",
       "0  942, 21st Main Road, 2nd Stage, Banashankari, ...            Jalsa   \n",
       "1  2nd Floor, 80 Feet Road, Near Big Bazaar, 6th ...   Spice Elephant   \n",
       "2  1112, Next to KIMS Medical College, 17th Cross...  San Churro Cafe   \n",
       "\n",
       "  online_order book_table rate  votes                           phone  \\\n",
       "0          Yes        Yes  4.1    775  080 42297555\\r\\n+91 9743772233   \n",
       "1          Yes         No  4.1    787                    080 41714161   \n",
       "2          Yes         No  3.8    918                  +91 9663487993   \n",
       "\n",
       "       location            rest_type  \\\n",
       "0  Banashankari        Casual Dining   \n",
       "1  Banashankari        Casual Dining   \n",
       "2  Banashankari  Cafe, Casual Dining   \n",
       "\n",
       "                                          dish_liked  \\\n",
       "0  Pasta, Lunch Buffet, Masala Papad, Paneer Laja...   \n",
       "1  Momos, Lunch Buffet, Chocolate Nirvana, Thai G...   \n",
       "2  Churros, Cannelloni, Minestrone Soup, Hot Choc...   \n",
       "\n",
       "                         cuisines approx_cost(for two people)  \\\n",
       "0  North Indian, Mughlai, Chinese                         800   \n",
       "1     Chinese, North Indian, Thai                         800   \n",
       "2          Cafe, Mexican, Italian                         800   \n",
       "\n",
       "                                        reviews_list menu_item  \\\n",
       "0  [('Rated 4.0', 'RATED\\n  A beautiful place to ...        []   \n",
       "1  [('Rated 4.0', 'RATED\\n  Had been here for din...        []   \n",
       "2  [('Rated 3.0', \"RATED\\n  Ambience is not that ...        []   \n",
       "\n",
       "  listed_in(type) listed_in(city)  \n",
       "0          Buffet    Banashankari  \n",
       "1          Buffet    Banashankari  \n",
       "2          Buffet    Banashankari  "
      ]
     },
     "execution_count": 16,
     "metadata": {},
     "output_type": "execute_result"
    }
   ],
   "source": [
    "df.head(3)"
   ]
  },
  {
   "cell_type": "code",
   "execution_count": 17,
   "id": "a7197012",
   "metadata": {},
   "outputs": [
    {
     "data": {
      "text/plain": [
       "array(['4.1', '3.8', '3.7', '3.6', '4.6', '4.0', '4.2', '3.9', '3.1',\n",
       "       '3.0', '3.2', '3.3', '2.8', '4.4', '4.3', 'NEW', '2.9', '3.5',\n",
       "       '2.6', '3.8 ', '3.4', '4.5', '2.5', '2.7', '4.7', '2.4', '2.2',\n",
       "       '2.3', '3.4 ', '-', '3.6 ', '4.8', '3.9 ', '4.2 ', '4.0 ', '4.1 ',\n",
       "       '3.7 ', '3.1 ', '2.9 ', '3.3 ', '2.8 ', '3.5 ', '2.7 ', '2.5 ',\n",
       "       '3.2 ', '2.6 ', '4.5 ', '4.3 ', '4.4 ', '4.9', '2.1', '2.0', '1.8',\n",
       "       '4.6 ', '4.9 ', '3.0 ', '4.8 ', '2.3 ', '4.7 ', '2.4 ', '2.1 ',\n",
       "       '2.2 ', '2.0 ', '1.8 '], dtype=object)"
      ]
     },
     "execution_count": 17,
     "metadata": {},
     "output_type": "execute_result"
    }
   ],
   "source": [
    "df['rate'].unique()"
   ]
  },
  {
   "cell_type": "code",
   "execution_count": 18,
   "id": "39affd89",
   "metadata": {},
   "outputs": [],
   "source": [
    "df.replace('NEW',0,inplace=True)"
   ]
  },
  {
   "cell_type": "code",
   "execution_count": 19,
   "id": "80c8cc37",
   "metadata": {},
   "outputs": [],
   "source": [
    "df.replace('-',0,inplace=True)"
   ]
  },
  {
   "cell_type": "code",
   "execution_count": 20,
   "id": "9c8afb18",
   "metadata": {},
   "outputs": [],
   "source": [
    "df['rate'] = df['rate'].astype(float)"
   ]
  },
  {
   "cell_type": "markdown",
   "id": "ac91f2e7",
   "metadata": {},
   "source": [
    "Calculate average rating of each resturant"
   ]
  },
  {
   "cell_type": "code",
   "execution_count": 21,
   "id": "3d03e08d",
   "metadata": {},
   "outputs": [
    {
     "data": {
      "text/plain": [
       "<Axes: xlabel='name'>"
      ]
     },
     "execution_count": 21,
     "metadata": {},
     "output_type": "execute_result"
    },
    {
     "name": "stderr",
     "output_type": "stream",
     "text": [
      "C:\\Users\\HP\\anaconda3\\lib\\site-packages\\IPython\\core\\events.py:89: UserWarning: Glyph 131 (\\x83) missing from current font.\n",
      "  func(*args, **kwargs)\n",
      "C:\\Users\\HP\\anaconda3\\lib\\site-packages\\IPython\\core\\events.py:89: UserWarning: Glyph 130 (\\x82) missing from current font.\n",
      "  func(*args, **kwargs)\n",
      "C:\\Users\\HP\\anaconda3\\lib\\site-packages\\IPython\\core\\pylabtools.py:152: UserWarning: Glyph 131 (\\x83) missing from current font.\n",
      "  fig.canvas.print_figure(bytes_io, **kw)\n",
      "C:\\Users\\HP\\anaconda3\\lib\\site-packages\\IPython\\core\\pylabtools.py:152: UserWarning: Glyph 130 (\\x82) missing from current font.\n",
      "  fig.canvas.print_figure(bytes_io, **kw)\n"
     ]
    },
    {
     "data": {
      "image/png": "[encoded data removed]",
      "text/plain": [
       "<Figure size 640x480 with 1 Axes>"
      ]
     },
     "metadata": {},
     "output_type": "display_data"
    }
   ],
   "source": [
    "df.groupby('name')['rate'].mean().nlargest(20).plot.bar()"
   ]
  },
  {
   "cell_type": "code",
   "execution_count": 22,
   "id": "158702cf",
   "metadata": {},
   "outputs": [
    {
     "data": {
      "text/html": [
       "<div>\n",
       "<style scoped>\n",
       "    .dataframe tbody tr th:only-of-type {\n",
       "        vertical-align: middle;\n",
       "    }\n",
       "\n",
       "    .dataframe tbody tr th {\n",
       "        vertical-align: top;\n",
       "    }\n",
       "\n",
       "    .dataframe thead th {\n",
       "        text-align: right;\n",
       "    }\n",
       "</style>\n",
       "<table border=\"1\" class=\"dataframe\">\n",
       "  <thead>\n",
       "    <tr style=\"text-align: right;\">\n",
       "      <th></th>\n",
       "      <th>resturant</th>\n",
       "      <th>rating</th>\n",
       "    </tr>\n",
       "  </thead>\n",
       "  <tbody>\n",
       "    <tr>\n",
       "      <th>0</th>\n",
       "      <td>#FeelTheROLL</td>\n",
       "      <td>3.400000</td>\n",
       "    </tr>\n",
       "    <tr>\n",
       "      <th>1</th>\n",
       "      <td>#L-81 Cafe</td>\n",
       "      <td>3.900000</td>\n",
       "    </tr>\n",
       "    <tr>\n",
       "      <th>2</th>\n",
       "      <td>#refuel</td>\n",
       "      <td>3.700000</td>\n",
       "    </tr>\n",
       "    <tr>\n",
       "      <th>3</th>\n",
       "      <td>1000 B.C</td>\n",
       "      <td>3.200000</td>\n",
       "    </tr>\n",
       "    <tr>\n",
       "      <th>4</th>\n",
       "      <td>100ÃÂÃÂÃÂÃÂÃÂÃÂÃÂÃÂ°C</td>\n",
       "      <td>3.700000</td>\n",
       "    </tr>\n",
       "    <tr>\n",
       "      <th>5</th>\n",
       "      <td>11 to 11 Express Biriyanis</td>\n",
       "      <td>3.500000</td>\n",
       "    </tr>\n",
       "    <tr>\n",
       "      <th>6</th>\n",
       "      <td>1131 Bar + Kitchen</td>\n",
       "      <td>4.500000</td>\n",
       "    </tr>\n",
       "    <tr>\n",
       "      <th>7</th>\n",
       "      <td>12th Main - Grand Mercure</td>\n",
       "      <td>4.100000</td>\n",
       "    </tr>\n",
       "    <tr>\n",
       "      <th>8</th>\n",
       "      <td>1441 Pizzeria</td>\n",
       "      <td>4.100000</td>\n",
       "    </tr>\n",
       "    <tr>\n",
       "      <th>9</th>\n",
       "      <td>1522 - The Pub</td>\n",
       "      <td>4.212000</td>\n",
       "    </tr>\n",
       "    <tr>\n",
       "      <th>10</th>\n",
       "      <td>154 Breakfast Club</td>\n",
       "      <td>4.000000</td>\n",
       "    </tr>\n",
       "    <tr>\n",
       "      <th>11</th>\n",
       "      <td>1722 Urban Bistro</td>\n",
       "      <td>4.100000</td>\n",
       "    </tr>\n",
       "    <tr>\n",
       "      <th>12</th>\n",
       "      <td>18+ Ice Cafe</td>\n",
       "      <td>3.500000</td>\n",
       "    </tr>\n",
       "    <tr>\n",
       "      <th>13</th>\n",
       "      <td>1947</td>\n",
       "      <td>4.021429</td>\n",
       "    </tr>\n",
       "    <tr>\n",
       "      <th>14</th>\n",
       "      <td>1980s Games Cafe</td>\n",
       "      <td>3.400000</td>\n",
       "    </tr>\n",
       "    <tr>\n",
       "      <th>15</th>\n",
       "      <td>1992 Chats - Space</td>\n",
       "      <td>3.700000</td>\n",
       "    </tr>\n",
       "    <tr>\n",
       "      <th>16</th>\n",
       "      <td>1Q1</td>\n",
       "      <td>4.300000</td>\n",
       "    </tr>\n",
       "    <tr>\n",
       "      <th>17</th>\n",
       "      <td>1TO3 Kitchen</td>\n",
       "      <td>3.100000</td>\n",
       "    </tr>\n",
       "    <tr>\n",
       "      <th>18</th>\n",
       "      <td>2 Statez</td>\n",
       "      <td>3.700000</td>\n",
       "    </tr>\n",
       "    <tr>\n",
       "      <th>19</th>\n",
       "      <td>20 Char - Sterlings MAC Hotel</td>\n",
       "      <td>4.000000</td>\n",
       "    </tr>\n",
       "  </tbody>\n",
       "</table>\n",
       "</div>"
      ],
      "text/plain": [
       "                               resturant    rating\n",
       "0                           #FeelTheROLL  3.400000\n",
       "1                             #L-81 Cafe  3.900000\n",
       "2                                #refuel  3.700000\n",
       "3                               1000 B.C  3.200000\n",
       "4   100ÃÂÃÂÃÂÃÂÃÂÃÂÃÂÃÂ°C  3.700000\n",
       "5             11 to 11 Express Biriyanis  3.500000\n",
       "6                     1131 Bar + Kitchen  4.500000\n",
       "7              12th Main - Grand Mercure  4.100000\n",
       "8                          1441 Pizzeria  4.100000\n",
       "9                         1522 - The Pub  4.212000\n",
       "10                    154 Breakfast Club  4.000000\n",
       "11                     1722 Urban Bistro  4.100000\n",
       "12                          18+ Ice Cafe  3.500000\n",
       "13                                  1947  4.021429\n",
       "14                      1980s Games Cafe  3.400000\n",
       "15                    1992 Chats - Space  3.700000\n",
       "16                                   1Q1  4.300000\n",
       "17                          1TO3 Kitchen  3.100000\n",
       "18                              2 Statez  3.700000\n",
       "19         20 Char - Sterlings MAC Hotel  4.000000"
      ]
     },
     "execution_count": 22,
     "metadata": {},
     "output_type": "execute_result"
    }
   ],
   "source": [
    "df_rate = df.groupby('name')['rate'].mean().to_frame()\n",
    "df_rate = df_rate.reset_index()\n",
    "df_rate.columns = ['resturant','rating']\n",
    "df_rate.head(20)"
   ]
  },
  {
   "cell_type": "code",
   "execution_count": 23,
   "id": "b70fd70f",
   "metadata": {},
   "outputs": [
    {
     "data": {
      "text/plain": [
       "(7162, 2)"
      ]
     },
     "execution_count": 23,
     "metadata": {},
     "output_type": "execute_result"
    }
   ],
   "source": [
    "df_rate.shape"
   ]
  },
  {
   "cell_type": "markdown",
   "id": "659198f8",
   "metadata": {},
   "source": [
    "Alternative is we create a list in which we have all returants and in another list, we have all ratings and then using zip we can create a dataframe"
   ]
  },
  {
   "cell_type": "code",
   "execution_count": 24,
   "id": "291281d0",
   "metadata": {},
   "outputs": [
    {
     "data": {
      "text/plain": [
       "\"resturant = []\\navg_rating = []\\nfor key,name_df in df.groupby('name'):\\n    resturant.append(key)\\n    avg_rating.append(np.mean(name_df['rate']))\""
      ]
     },
     "execution_count": 24,
     "metadata": {},
     "output_type": "execute_result"
    }
   ],
   "source": [
    "'''resturant = []\n",
    "avg_rating = []\n",
    "for key,name_df in df.groupby('name'):\n",
    "    resturant.append(key)\n",
    "    avg_rating.append(np.mean(name_df['rate']))''' "
   ]
  },
  {
   "cell_type": "code",
   "execution_count": 25,
   "id": "a8778d1d",
   "metadata": {},
   "outputs": [
    {
     "data": {
      "text/plain": [
       "\"df_rate = pd.DataFrame(zip(resturant,avg_rating))\\ndf_rate.columns = ['returant','rating']\\ndf_rate.head(20)\""
      ]
     },
     "execution_count": 25,
     "metadata": {},
     "output_type": "execute_result"
    }
   ],
   "source": [
    "'''df_rate = pd.DataFrame(zip(resturant,avg_rating))\n",
    "df_rate.columns = ['returant','rating']\n",
    "df_rate.head(20)'''"
   ]
  },
  {
   "cell_type": "markdown",
   "id": "781df725",
   "metadata": {},
   "source": [
    "Rating Distributition"
   ]
  },
  {
   "cell_type": "code",
   "execution_count": 26,
   "id": "5cdd97ee",
   "metadata": {},
   "outputs": [
    {
     "name": "stderr",
     "output_type": "stream",
     "text": [
      "C:\\Users\\HP\\AppData\\Local\\Temp\\ipykernel_39440\\3673680488.py:1: MatplotlibDeprecationWarning: The seaborn styles shipped by Matplotlib are deprecated since 3.6, as they no longer correspond to the styles shipped by seaborn. However, they will remain available as 'seaborn-v0_8-<style>'. Alternatively, directly use the seaborn API instead.\n",
      "  plt.style.use('seaborn-whitegrid')\n"
     ]
    },
    {
     "data": {
      "image/png": "[encoded data removed]",
      "text/plain": [
       "<Figure size 640x480 with 1 Axes>"
      ]
     },
     "metadata": {},
     "output_type": "display_data"
    }
   ],
   "source": [
    "plt.style.use('seaborn-whitegrid')\n",
    "plt.hist(df_rate['rating'],bins='auto',alpha=0.7)\n",
    "plt.xlabel('Rating')\n",
    "plt.ylabel('Frequency')\n",
    "plt.title('Distribution of Ratings')\n",
    "plt.show()"
   ]
  },
  {
   "cell_type": "code",
   "execution_count": 27,
   "id": "d2ad06cb",
   "metadata": {},
   "outputs": [
    {
     "data": {
      "text/plain": [
       "\"sns.set_style(style='whitegrid')\\nsns.displot(df_rate['rating'])\""
      ]
     },
     "execution_count": 27,
     "metadata": {},
     "output_type": "execute_result"
    }
   ],
   "source": [
    "'''sns.set_style(style='whitegrid')\n",
    "sns.displot(df_rate['rating'])'''"
   ]
  },
  {
   "cell_type": "markdown",
   "id": "a3c0d189",
   "metadata": {},
   "source": [
    "Almost more than 50 percent of the resturants has rating between 3 and 4.Resturants having rating more than 4.5 are very rare."
   ]
  },
  {
   "cell_type": "markdown",
   "id": "3d8261ad",
   "metadata": {},
   "source": [
    "What are the top resturants chains in Bengaluru?"
   ]
  },
  {
   "cell_type": "code",
   "execution_count": 28,
   "id": "83ff6164",
   "metadata": {},
   "outputs": [
    {
     "data": {
      "text/plain": [
       "Text(0.5, 0, 'Number of outlets')"
      ]
     },
     "execution_count": 28,
     "metadata": {},
     "output_type": "execute_result"
    },
    {
     "data": {
      "image/png": "[encoded data removed]",
      "text/plain": [
       "<Figure size 1000x700 with 1 Axes>"
      ]
     },
     "metadata": {},
     "output_type": "display_data"
    }
   ],
   "source": [
    "plt.figure(figsize = (10,7))\n",
    "chains = df['name'].value_counts()[0:20]\n",
    "sns.barplot(x=chains,y=chains.index,palette='deep')\n",
    "plt.title(\"Most famous restaurants chains in Bangaluru\")\n",
    "plt.xlabel('Number of outlets')"
   ]
  },
  {
   "cell_type": "markdown",
   "id": "3f127437",
   "metadata": {},
   "source": [
    "How many of the resturants do not accept online order?"
   ]
  },
  {
   "cell_type": "code",
   "execution_count": 29,
   "id": "be8dde24",
   "metadata": {},
   "outputs": [
    {
     "data": {
      "text/plain": [
       "Text(0.5, 1.0, 'Online Order Status')"
      ]
     },
     "execution_count": 29,
     "metadata": {},
     "output_type": "execute_result"
    },
    {
     "data": {
      "image/png": "[encoded data removed]",
      "text/plain": [
       "<Figure size 640x480 with 1 Axes>"
      ]
     },
     "metadata": {},
     "output_type": "display_data"
    }
   ],
   "source": [
    "x = df['online_order'].value_counts()\n",
    "labels = ['accepted','not accepted']\n",
    "plt.pie(x,explode=[0.0,0.1],autopct='%1.1f%%',labels=labels)\n",
    "plt.title(\"Online Order Status\")"
   ]
  },
  {
   "cell_type": "markdown",
   "id": "ad118ff3",
   "metadata": {},
   "source": [
    "What is the ratio b/w resturants that provide and do not provide table booking?"
   ]
  },
  {
   "cell_type": "code",
   "execution_count": 30,
   "id": "a2e7f53c",
   "metadata": {},
   "outputs": [
    {
     "data": {
      "text/plain": [
       "([<matplotlib.patches.Wedge at 0x2a3d4815de0>,\n",
       "  <matplotlib.patches.Wedge at 0x2a3d4815cf0>],\n",
       " [Text(-0.9856961240827233, 0.4882654513359477, 'Do Not Accept Bookings'),\n",
       "  Text(1.0753048626356982, -0.5326532196392153, 'Accept Bookings')],\n",
       " [Text(-0.537652431317849, 0.26632660981960776, '85.4%'),\n",
       "  Text(0.6272611698708239, -0.31071437812287556, '14.6%')])"
      ]
     },
     "execution_count": 30,
     "metadata": {},
     "output_type": "execute_result"
    },
    {
     "data": {
      "image/png": "[encoded data removed]",
      "text/plain": [
       "<Figure size 640x480 with 1 Axes>"
      ]
     },
     "metadata": {},
     "output_type": "display_data"
    }
   ],
   "source": [
    "x = df['book_table'].value_counts()\n",
    "labels =['Do Not Accept Bookings','Accept Bookings']\n",
    "plt.pie(x,explode=[0.0,0.1],autopct='%1.1f%%',labels = labels)"
   ]
  },
  {
   "cell_type": "markdown",
   "id": "91ee3090",
   "metadata": {},
   "source": [
    "How many types of resturants we have?"
   ]
  },
  {
   "cell_type": "code",
   "execution_count": 31,
   "id": "90dd0bb7",
   "metadata": {},
   "outputs": [
    {
     "data": {
      "text/plain": [
       "151"
      ]
     },
     "execution_count": 31,
     "metadata": {},
     "output_type": "execute_result"
    }
   ],
   "source": [
    "df['rest_type'].isna().sum()"
   ]
  },
  {
   "cell_type": "code",
   "execution_count": 32,
   "id": "252535b4",
   "metadata": {},
   "outputs": [],
   "source": [
    "df['rest_type'].dropna(inplace=True)"
   ]
  },
  {
   "cell_type": "code",
   "execution_count": 33,
   "id": "72b62eb4",
   "metadata": {},
   "outputs": [
    {
     "data": {
      "text/plain": [
       "88"
      ]
     },
     "execution_count": 33,
     "metadata": {},
     "output_type": "execute_result"
    }
   ],
   "source": [
    "len(df['rest_type'].unique())"
   ]
  },
  {
   "cell_type": "code",
   "execution_count": 34,
   "id": "9fd50ea8",
   "metadata": {},
   "outputs": [
    {
     "data": {
      "image/png": "[encoded data removed]",
      "text/plain": [
       "<Figure size 2000x1200 with 1 Axes>"
      ]
     },
     "metadata": {},
     "output_type": "display_data"
    }
   ],
   "source": [
    "plt.figure(figsize=(20,12))\n",
    "df['rest_type'].value_counts().nlargest(20).plot.bar(color='red')\n",
    "plt.gcf().autofmt_xdate()"
   ]
  },
  {
   "cell_type": "markdown",
   "id": "6639dca1",
   "metadata": {},
   "source": [
    "At all, Banglore is known as the tech capital of India, people having busy and modern life will prefer Quick Bites."
   ]
  },
  {
   "cell_type": "markdown",
   "id": "2bf57839",
   "metadata": {},
   "source": [
    "We can observe the Quick Bites type resturant dominates."
   ]
  },
  {
   "cell_type": "markdown",
   "id": "c2feb904",
   "metadata": {},
   "source": [
    "Highest Voted Resturant"
   ]
  },
  {
   "cell_type": "code",
   "execution_count": 35,
   "id": "db97a58c",
   "metadata": {},
   "outputs": [
    {
     "data": {
      "text/plain": [
       "<Axes: xlabel='name'>"
      ]
     },
     "execution_count": 35,
     "metadata": {},
     "output_type": "execute_result"
    },
    {
     "data": {
      "image/png": "[encoded data removed]",
      "text/plain": [
       "<Figure size 640x480 with 1 Axes>"
      ]
     },
     "metadata": {},
     "output_type": "display_data"
    }
   ],
   "source": [
    "df.groupby('name')['votes'].max().nlargest(20).plot.bar()"
   ]
  },
  {
   "cell_type": "markdown",
   "id": "c0acc8ee",
   "metadata": {},
   "source": [
    "Total resturants at different locations of Banglore"
   ]
  },
  {
   "cell_type": "code",
   "execution_count": 36,
   "id": "12f03d54",
   "metadata": {},
   "outputs": [
    {
     "data": {
      "text/plain": [
       "location\n",
       "BTM                  [Sankranthi Veg Restaurant, Hearts Unlock Cafe...\n",
       "Banashankari         [Jalsa, Spice Elephant, San Churro Cafe, Addhu...\n",
       "Banaswadi            [Cafe Nibras, The Sanctuary, Crunch Pizzas, Pi...\n",
       "Bannerghatta Road    [Deja Vu Resto Bar, Fattoush, Empire Restauran...\n",
       "Basavanagudi         [Grand Village, Timepass Dinner, Srinathji's C...\n",
       "                                           ...                        \n",
       "West Bangalore       [FreshMenu, Fit Dish Fetish, Garden City Mobil...\n",
       "Whitefield           [Imperio Cafe, Night Diaries, LocalHost, AB's ...\n",
       "Wilson Garden        [Tree Top, Sahana's (Nati Style), Karavali Kol...\n",
       "Yelahanka            [Prashanth Naati Corner, Cheta's Kitchen, Twis...\n",
       "Yeshwantpur          [Chef's Bank, New Agarwal Bhavan, Fishing Boat...\n",
       "Name: name, Length: 92, dtype: object"
      ]
     },
     "execution_count": 36,
     "metadata": {},
     "output_type": "execute_result"
    }
   ],
   "source": [
    "df.groupby('location')['name'].unique()"
   ]
  },
  {
   "cell_type": "code",
   "execution_count": 37,
   "id": "82d62706",
   "metadata": {},
   "outputs": [],
   "source": [
    "resturant = []\n",
    "location = []\n",
    "for key,location_df in df.groupby('location'):\n",
    "    location.append(key)\n",
    "    resturant.append(len(location_df['name'].unique()))"
   ]
  },
  {
   "cell_type": "code",
   "execution_count": 38,
   "id": "37bbf552",
   "metadata": {},
   "outputs": [
    {
     "data": {
      "text/html": [
       "<div>\n",
       "<style scoped>\n",
       "    .dataframe tbody tr th:only-of-type {\n",
       "        vertical-align: middle;\n",
       "    }\n",
       "\n",
       "    .dataframe tbody tr th {\n",
       "        vertical-align: top;\n",
       "    }\n",
       "\n",
       "    .dataframe thead th {\n",
       "        text-align: right;\n",
       "    }\n",
       "</style>\n",
       "<table border=\"1\" class=\"dataframe\">\n",
       "  <thead>\n",
       "    <tr style=\"text-align: right;\">\n",
       "      <th></th>\n",
       "      <th>resturants</th>\n",
       "    </tr>\n",
       "    <tr>\n",
       "      <th>location</th>\n",
       "      <th></th>\n",
       "    </tr>\n",
       "  </thead>\n",
       "  <tbody>\n",
       "    <tr>\n",
       "      <th>Bellandur</th>\n",
       "      <td>284</td>\n",
       "    </tr>\n",
       "    <tr>\n",
       "      <th>Jayanagar</th>\n",
       "      <td>311</td>\n",
       "    </tr>\n",
       "    <tr>\n",
       "      <th>Bannerghatta Road</th>\n",
       "      <td>362</td>\n",
       "    </tr>\n",
       "    <tr>\n",
       "      <th>JP Nagar</th>\n",
       "      <td>400</td>\n",
       "    </tr>\n",
       "    <tr>\n",
       "      <th>Indiranagar</th>\n",
       "      <td>467</td>\n",
       "    </tr>\n",
       "    <tr>\n",
       "      <th>Electronic City</th>\n",
       "      <td>518</td>\n",
       "    </tr>\n",
       "    <tr>\n",
       "      <th>Marathahalli</th>\n",
       "      <td>525</td>\n",
       "    </tr>\n",
       "    <tr>\n",
       "      <th>HSR</th>\n",
       "      <td>553</td>\n",
       "    </tr>\n",
       "    <tr>\n",
       "      <th>BTM</th>\n",
       "      <td>581</td>\n",
       "    </tr>\n",
       "    <tr>\n",
       "      <th>Whitefield</th>\n",
       "      <td>634</td>\n",
       "    </tr>\n",
       "  </tbody>\n",
       "</table>\n",
       "</div>"
      ],
      "text/plain": [
       "                   resturants\n",
       "location                     \n",
       "Bellandur                 284\n",
       "Jayanagar                 311\n",
       "Bannerghatta Road         362\n",
       "JP Nagar                  400\n",
       "Indiranagar               467\n",
       "Electronic City           518\n",
       "Marathahalli              525\n",
       "HSR                       553\n",
       "BTM                       581\n",
       "Whitefield                634"
      ]
     },
     "execution_count": 38,
     "metadata": {},
     "output_type": "execute_result"
    }
   ],
   "source": [
    "df_total = pd.DataFrame(zip(location,resturant))\n",
    "df_total.columns = ['location','resturants']\n",
    "df_total.set_index('location',inplace=True)\n",
    "df_total.sort_values(by='resturants').tail(10)"
   ]
  },
  {
   "cell_type": "code",
   "execution_count": 39,
   "id": "caa9b66d",
   "metadata": {},
   "outputs": [
    {
     "data": {
      "text/plain": [
       "<Axes: xlabel='location'>"
      ]
     },
     "execution_count": 39,
     "metadata": {},
     "output_type": "execute_result"
    },
    {
     "data": {
      "image/png": "[encoded data removed]",
      "text/plain": [
       "<Figure size 640x480 with 1 Axes>"
      ]
     },
     "metadata": {},
     "output_type": "display_data"
    }
   ],
   "source": [
    "df_total.sort_values(by='resturants').tail(10).plot.bar()"
   ]
  },
  {
   "cell_type": "markdown",
   "id": "63a3293d",
   "metadata": {},
   "source": [
    "Different Types of Resturants"
   ]
  },
  {
   "cell_type": "code",
   "execution_count": 40,
   "id": "8981b44b",
   "metadata": {},
   "outputs": [
    {
     "data": {
      "text/plain": [
       "Quick Bites                   34.302035\n",
       "Casual Dining                 22.582040\n",
       "Cafe                           8.026489\n",
       "Dessert Parlor                 4.412635\n",
       "Delivery                       4.075827\n",
       "                                ...    \n",
       "Bakery, Food Court             0.004551\n",
       "Food Court, Beverage Shop      0.004551\n",
       "Dessert Parlor, Food Court     0.004551\n",
       "Dessert Parlor, Kiosk          0.004551\n",
       "Quick Bites, Kiosk             0.002276\n",
       "Name: rest_type, Length: 87, dtype: float64"
      ]
     },
     "execution_count": 40,
     "metadata": {},
     "output_type": "execute_result"
    }
   ],
   "source": [
    "#data is represented in the form of percentage\n",
    "(df['rest_type'].value_counts()/len(df))*100"
   ]
  },
  {
   "cell_type": "markdown",
   "id": "8ec11465",
   "metadata": {},
   "source": [
    "Total number of variety of Resturants i.e North Indian, South Indian"
   ]
  },
  {
   "cell_type": "code",
   "execution_count": 41,
   "id": "ad762266",
   "metadata": {},
   "outputs": [
    {
     "data": {
      "text/plain": [
       "Text(0.5, 1.0, 'Most popular cuisines of Banglore')"
      ]
     },
     "execution_count": 41,
     "metadata": {},
     "output_type": "execute_result"
    },
    {
     "data": {
      "image/png": "[encoded data removed]",
      "text/plain": [
       "<Figure size 640x480 with 1 Axes>"
      ]
     },
     "metadata": {},
     "output_type": "display_data"
    }
   ],
   "source": [
    "cuisines = df['cuisines'].value_counts()[:10]\n",
    "sns.barplot(x = cuisines,y = cuisines.index)\n",
    "plt.xlabel('Count')\n",
    "plt.title(\"Most popular cuisines of Banglore\")"
   ]
  },
  {
   "cell_type": "markdown",
   "id": "92c61299",
   "metadata": {},
   "source": [
    "We can observe that North Indian, Chinese, South Indian and Biryani are most common"
   ]
  },
  {
   "cell_type": "markdown",
   "id": "3e2835a2",
   "metadata": {},
   "source": [
    "Analyse approx cost for 2 people"
   ]
  },
  {
   "cell_type": "code",
   "execution_count": 42,
   "id": "9f5f916e",
   "metadata": {},
   "outputs": [
    {
     "data": {
      "text/plain": [
       "66"
      ]
     },
     "execution_count": 42,
     "metadata": {},
     "output_type": "execute_result"
    }
   ],
   "source": [
    "len(df['approx_cost(for two people)'].value_counts())"
   ]
  },
  {
   "cell_type": "code",
   "execution_count": 43,
   "id": "5ceb45b9",
   "metadata": {},
   "outputs": [
    {
     "data": {
      "text/plain": [
       "252"
      ]
     },
     "execution_count": 43,
     "metadata": {},
     "output_type": "execute_result"
    }
   ],
   "source": [
    "df['approx_cost(for two people)'].isna().sum()"
   ]
  },
  {
   "cell_type": "code",
   "execution_count": 44,
   "id": "93c83f8d",
   "metadata": {},
   "outputs": [],
   "source": [
    "df.dropna(axis='index',subset=['approx_cost(for two people)'],inplace=True)"
   ]
  },
  {
   "cell_type": "code",
   "execution_count": 45,
   "id": "21f58522",
   "metadata": {},
   "outputs": [
    {
     "data": {
      "text/plain": [
       "0"
      ]
     },
     "execution_count": 45,
     "metadata": {},
     "output_type": "execute_result"
    }
   ],
   "source": [
    "df['approx_cost(for two people)'].isna().sum()"
   ]
  },
  {
   "cell_type": "code",
   "execution_count": 46,
   "id": "6efd4cb8",
   "metadata": {},
   "outputs": [
    {
     "data": {
      "text/plain": [
       "array(['800', '300', '600', '700', '550', '500', '450', '650', '400',\n",
       "       '900', '200', '750', '150', '850', '100', '1,200', '350', '250',\n",
       "       '950', '1,000', '1,500', '1,300', '199', '80', '1,100', '160',\n",
       "       '1,600', '230', '130', '1,700', '1,400', '1,350', '2,200', '2,000',\n",
       "       '1,800', '1,900', '180', '330', '2,500', '2,100', '3,000', '2,800',\n",
       "       '3,400', '50', '40', '1,250', '3,500', '4,000', '2,400', '2,600',\n",
       "       '1,450', '70', '3,200', '560', '240', '360', '6,000', '1,050',\n",
       "       '2,300', '4,100', '120', '5,000', '3,700', '1,650', '2,700',\n",
       "       '4,500'], dtype=object)"
      ]
     },
     "execution_count": 46,
     "metadata": {},
     "output_type": "execute_result"
    }
   ],
   "source": [
    "df['approx_cost(for two people)'].unique()"
   ]
  },
  {
   "cell_type": "code",
   "execution_count": 47,
   "id": "4851c1db",
   "metadata": {},
   "outputs": [],
   "source": [
    "def is_float(x):\n",
    "    try:\n",
    "        float(x)\n",
    "    except:\n",
    "        return False\n",
    "    return True"
   ]
  },
  {
   "cell_type": "code",
   "execution_count": 48,
   "id": "c5a6399d",
   "metadata": {},
   "outputs": [
    {
     "data": {
      "text/html": [
       "<div>\n",
       "<style scoped>\n",
       "    .dataframe tbody tr th:only-of-type {\n",
       "        vertical-align: middle;\n",
       "    }\n",
       "\n",
       "    .dataframe tbody tr th {\n",
       "        vertical-align: top;\n",
       "    }\n",
       "\n",
       "    .dataframe thead th {\n",
       "        text-align: right;\n",
       "    }\n",
       "</style>\n",
       "<table border=\"1\" class=\"dataframe\">\n",
       "  <thead>\n",
       "    <tr style=\"text-align: right;\">\n",
       "      <th></th>\n",
       "      <th>url</th>\n",
       "      <th>address</th>\n",
       "      <th>name</th>\n",
       "      <th>online_order</th>\n",
       "      <th>book_table</th>\n",
       "      <th>rate</th>\n",
       "      <th>votes</th>\n",
       "      <th>phone</th>\n",
       "      <th>location</th>\n",
       "      <th>rest_type</th>\n",
       "      <th>dish_liked</th>\n",
       "      <th>cuisines</th>\n",
       "      <th>approx_cost(for two people)</th>\n",
       "      <th>reviews_list</th>\n",
       "      <th>menu_item</th>\n",
       "      <th>listed_in(type)</th>\n",
       "      <th>listed_in(city)</th>\n",
       "    </tr>\n",
       "  </thead>\n",
       "  <tbody>\n",
       "    <tr>\n",
       "      <th>67</th>\n",
       "      <td>https://www.zomato.com/gustoesbeerhouse?contex...</td>\n",
       "      <td>10, 30th Main, Deve Gowda Petrol Bunk Road, 3r...</td>\n",
       "      <td>Gustoes Beer House</td>\n",
       "      <td>No</td>\n",
       "      <td>No</td>\n",
       "      <td>4.1</td>\n",
       "      <td>868</td>\n",
       "      <td>080 49653521</td>\n",
       "      <td>Banashankari</td>\n",
       "      <td>Pub</td>\n",
       "      <td>Beer, Wedges, Pizza, Nachos, Salads, Papaya Sa...</td>\n",
       "      <td>Continental, Italian, Mexican, North Indian, C...</td>\n",
       "      <td>1,200</td>\n",
       "      <td>[('Rated 5.0', 'RATED\\n  Has a really calm roo...</td>\n",
       "      <td>[]</td>\n",
       "      <td>Delivery</td>\n",
       "      <td>Banashankari</td>\n",
       "    </tr>\n",
       "    <tr>\n",
       "      <th>119</th>\n",
       "      <td>https://www.zomato.com/bangalore/k27-the-pub-b...</td>\n",
       "      <td>27, 27th Cross, 2nd Stage, Banashankari, Banga...</td>\n",
       "      <td>K27 - The Pub</td>\n",
       "      <td>No</td>\n",
       "      <td>No</td>\n",
       "      <td>3.1</td>\n",
       "      <td>30</td>\n",
       "      <td>+91 9980097472</td>\n",
       "      <td>Banashankari</td>\n",
       "      <td>Bar</td>\n",
       "      <td>NaN</td>\n",
       "      <td>Chinese, North Indian</td>\n",
       "      <td>1,000</td>\n",
       "      <td>[('Rated 4.0', \"RATED\\n  Convenient and Averag...</td>\n",
       "      <td>[]</td>\n",
       "      <td>Delivery</td>\n",
       "      <td>Banashankari</td>\n",
       "    </tr>\n",
       "    <tr>\n",
       "      <th>166</th>\n",
       "      <td>https://www.zomato.com/bangalore/patio-805-jay...</td>\n",
       "      <td>805, Ground Floor, 35C Cross, 9th Main, 4th Bl...</td>\n",
       "      <td>Patio 805</td>\n",
       "      <td>Yes</td>\n",
       "      <td>Yes</td>\n",
       "      <td>4.1</td>\n",
       "      <td>364</td>\n",
       "      <td>+91 8884999805</td>\n",
       "      <td>Jayanagar</td>\n",
       "      <td>Casual Dining</td>\n",
       "      <td>Noodles, Laksa Soup, Coffee, Veg Fritters, Veg...</td>\n",
       "      <td>Thai, Vietnamese, Asian, Chinese</td>\n",
       "      <td>1,200</td>\n",
       "      <td>[('Rated 4.0', \"RATED\\n  The number of good re...</td>\n",
       "      <td>[]</td>\n",
       "      <td>Delivery</td>\n",
       "      <td>Banashankari</td>\n",
       "    </tr>\n",
       "    <tr>\n",
       "      <th>207</th>\n",
       "      <td>https://www.zomato.com/bangalore/chutney-chang...</td>\n",
       "      <td>Cosmopolitan Club, 22nd Cross, 3rd Block, Jaya...</td>\n",
       "      <td>Chutney Chang</td>\n",
       "      <td>Yes</td>\n",
       "      <td>Yes</td>\n",
       "      <td>4.1</td>\n",
       "      <td>2339</td>\n",
       "      <td>080 22443007\\r\\n+91 9901967373</td>\n",
       "      <td>Jayanagar</td>\n",
       "      <td>Casual Dining</td>\n",
       "      <td>Veg Momos, Brownie Chocolate, Palak Chaat, Mut...</td>\n",
       "      <td>North Indian, Chinese, BBQ</td>\n",
       "      <td>1,500</td>\n",
       "      <td>[('Rated 4.0', 'RATED\\n  Great place for team ...</td>\n",
       "      <td>[]</td>\n",
       "      <td>Delivery</td>\n",
       "      <td>Banashankari</td>\n",
       "    </tr>\n",
       "    <tr>\n",
       "      <th>217</th>\n",
       "      <td>https://www.zomato.com/bangalore/toscano-jayan...</td>\n",
       "      <td>359/38,Next to Fabindia, 7th Cross, 1st Block,...</td>\n",
       "      <td>Toscano</td>\n",
       "      <td>Yes</td>\n",
       "      <td>Yes</td>\n",
       "      <td>4.3</td>\n",
       "      <td>1129</td>\n",
       "      <td>080 41558423\\r\\n+91 7619320074</td>\n",
       "      <td>Jayanagar</td>\n",
       "      <td>Casual Dining</td>\n",
       "      <td>Pizza, Pasta, Salads, Calamari, Ravioli, Pumpk...</td>\n",
       "      <td>Italian, Salad</td>\n",
       "      <td>1,300</td>\n",
       "      <td>[('Rated 4.0', 'RATED\\n  Saturday Night Dinner...</td>\n",
       "      <td>[]</td>\n",
       "      <td>Delivery</td>\n",
       "      <td>Banashankari</td>\n",
       "    </tr>\n",
       "    <tr>\n",
       "      <th>...</th>\n",
       "      <td>...</td>\n",
       "      <td>...</td>\n",
       "      <td>...</td>\n",
       "      <td>...</td>\n",
       "      <td>...</td>\n",
       "      <td>...</td>\n",
       "      <td>...</td>\n",
       "      <td>...</td>\n",
       "      <td>...</td>\n",
       "      <td>...</td>\n",
       "      <td>...</td>\n",
       "      <td>...</td>\n",
       "      <td>...</td>\n",
       "      <td>...</td>\n",
       "      <td>...</td>\n",
       "      <td>...</td>\n",
       "      <td>...</td>\n",
       "    </tr>\n",
       "    <tr>\n",
       "      <th>51707</th>\n",
       "      <td>https://www.zomato.com/bangalore/m-bar-bengalu...</td>\n",
       "      <td>Bengaluru Marriott Hotel, 75, 8th Road, EPIP A...</td>\n",
       "      <td>M Bar - Bengaluru Marriott Hotel Whitefield</td>\n",
       "      <td>No</td>\n",
       "      <td>No</td>\n",
       "      <td>3.9</td>\n",
       "      <td>77</td>\n",
       "      <td>080 49435000</td>\n",
       "      <td>Whitefield</td>\n",
       "      <td>Fine Dining, Bar</td>\n",
       "      <td>Rooftop Ambience</td>\n",
       "      <td>Finger Food</td>\n",
       "      <td>2,000</td>\n",
       "      <td>[('Rated 4.0', 'RATED\\n  Went there post dinne...</td>\n",
       "      <td>[]</td>\n",
       "      <td>Pubs and bars</td>\n",
       "      <td>Whitefield</td>\n",
       "    </tr>\n",
       "    <tr>\n",
       "      <th>51708</th>\n",
       "      <td>https://www.zomato.com/bangalore/keys-cafe-key...</td>\n",
       "      <td>Keys Hotel, 6, 1st Phase Industrial Area, Near...</td>\n",
       "      <td>Keys Cafe - Keys Hotel</td>\n",
       "      <td>No</td>\n",
       "      <td>No</td>\n",
       "      <td>2.8</td>\n",
       "      <td>161</td>\n",
       "      <td>080 39451000\\n+91 8884038484</td>\n",
       "      <td>Whitefield</td>\n",
       "      <td>Casual Dining, Bar</td>\n",
       "      <td>Salads, Coffee, Breakfast Buffet, Halwa, Chick...</td>\n",
       "      <td>Chinese, Continental, North Indian</td>\n",
       "      <td>1,200</td>\n",
       "      <td>[('Rated 3.0', 'RATED\\n  Place is good not tha...</td>\n",
       "      <td>[]</td>\n",
       "      <td>Pubs and bars</td>\n",
       "      <td>Whitefield</td>\n",
       "    </tr>\n",
       "    <tr>\n",
       "      <th>51712</th>\n",
       "      <td>https://www.zomato.com/bangalore/best-brews-fo...</td>\n",
       "      <td>Four Points by Sheraton Bengaluru, 43/3, White...</td>\n",
       "      <td>Best Brews - Four Points by Sheraton Bengaluru...</td>\n",
       "      <td>No</td>\n",
       "      <td>No</td>\n",
       "      <td>3.6</td>\n",
       "      <td>27</td>\n",
       "      <td>080 40301477</td>\n",
       "      <td>Whitefield</td>\n",
       "      <td>Bar</td>\n",
       "      <td>NaN</td>\n",
       "      <td>Continental</td>\n",
       "      <td>1,500</td>\n",
       "      <td>[('Rated 5.0', \"RATED\\n  Food and service are ...</td>\n",
       "      <td>[]</td>\n",
       "      <td>Pubs and bars</td>\n",
       "      <td>Whitefield</td>\n",
       "    </tr>\n",
       "    <tr>\n",
       "      <th>51715</th>\n",
       "      <td>https://www.zomato.com/bangalore/chime-sherato...</td>\n",
       "      <td>Sheraton Grand Bengaluru Whitefield Hotel &amp; Co...</td>\n",
       "      <td>Chime - Sheraton Grand Bengaluru Whitefield Ho...</td>\n",
       "      <td>No</td>\n",
       "      <td>Yes</td>\n",
       "      <td>4.3</td>\n",
       "      <td>236</td>\n",
       "      <td>080 49652769</td>\n",
       "      <td>ITPL Main Road, Whitefield</td>\n",
       "      <td>Bar</td>\n",
       "      <td>Cocktails, Pizza, Buttermilk</td>\n",
       "      <td>Finger Food</td>\n",
       "      <td>2,500</td>\n",
       "      <td>[('Rated 4.0', 'RATED\\n  Nice and friendly pla...</td>\n",
       "      <td>[]</td>\n",
       "      <td>Pubs and bars</td>\n",
       "      <td>Whitefield</td>\n",
       "    </tr>\n",
       "    <tr>\n",
       "      <th>51716</th>\n",
       "      <td>https://www.zomato.com/bangalore/the-nest-the-...</td>\n",
       "      <td>ITPL Main Road, KIADB Export Promotion Industr...</td>\n",
       "      <td>The Nest - The Den Bengaluru</td>\n",
       "      <td>No</td>\n",
       "      <td>No</td>\n",
       "      <td>3.4</td>\n",
       "      <td>13</td>\n",
       "      <td>+91 8071117272</td>\n",
       "      <td>ITPL Main Road, Whitefield</td>\n",
       "      <td>Bar, Casual Dining</td>\n",
       "      <td>NaN</td>\n",
       "      <td>Finger Food, North Indian, Continental</td>\n",
       "      <td>1,500</td>\n",
       "      <td>[('Rated 5.0', 'RATED\\n  Great ambience , look...</td>\n",
       "      <td>[]</td>\n",
       "      <td>Pubs and bars</td>\n",
       "      <td>Whitefield</td>\n",
       "    </tr>\n",
       "  </tbody>\n",
       "</table>\n",
       "<p>6798 rows × 17 columns</p>\n",
       "</div>"
      ],
      "text/plain": [
       "                                                     url  \\\n",
       "67     https://www.zomato.com/gustoesbeerhouse?contex...   \n",
       "119    https://www.zomato.com/bangalore/k27-the-pub-b...   \n",
       "166    https://www.zomato.com/bangalore/patio-805-jay...   \n",
       "207    https://www.zomato.com/bangalore/chutney-chang...   \n",
       "217    https://www.zomato.com/bangalore/toscano-jayan...   \n",
       "...                                                  ...   \n",
       "51707  https://www.zomato.com/bangalore/m-bar-bengalu...   \n",
       "51708  https://www.zomato.com/bangalore/keys-cafe-key...   \n",
       "51712  https://www.zomato.com/bangalore/best-brews-fo...   \n",
       "51715  https://www.zomato.com/bangalore/chime-sherato...   \n",
       "51716  https://www.zomato.com/bangalore/the-nest-the-...   \n",
       "\n",
       "                                                 address  \\\n",
       "67     10, 30th Main, Deve Gowda Petrol Bunk Road, 3r...   \n",
       "119    27, 27th Cross, 2nd Stage, Banashankari, Banga...   \n",
       "166    805, Ground Floor, 35C Cross, 9th Main, 4th Bl...   \n",
       "207    Cosmopolitan Club, 22nd Cross, 3rd Block, Jaya...   \n",
       "217    359/38,Next to Fabindia, 7th Cross, 1st Block,...   \n",
       "...                                                  ...   \n",
       "51707  Bengaluru Marriott Hotel, 75, 8th Road, EPIP A...   \n",
       "51708  Keys Hotel, 6, 1st Phase Industrial Area, Near...   \n",
       "51712  Four Points by Sheraton Bengaluru, 43/3, White...   \n",
       "51715  Sheraton Grand Bengaluru Whitefield Hotel & Co...   \n",
       "51716  ITPL Main Road, KIADB Export Promotion Industr...   \n",
       "\n",
       "                                                    name online_order  \\\n",
       "67                                    Gustoes Beer House           No   \n",
       "119                                        K27 - The Pub           No   \n",
       "166                                            Patio 805          Yes   \n",
       "207                                        Chutney Chang          Yes   \n",
       "217                                              Toscano          Yes   \n",
       "...                                                  ...          ...   \n",
       "51707        M Bar - Bengaluru Marriott Hotel Whitefield           No   \n",
       "51708                             Keys Cafe - Keys Hotel           No   \n",
       "51712  Best Brews - Four Points by Sheraton Bengaluru...           No   \n",
       "51715  Chime - Sheraton Grand Bengaluru Whitefield Ho...           No   \n",
       "51716                       The Nest - The Den Bengaluru           No   \n",
       "\n",
       "      book_table  rate  votes                           phone  \\\n",
       "67            No   4.1    868                    080 49653521   \n",
       "119           No   3.1     30                  +91 9980097472   \n",
       "166          Yes   4.1    364                  +91 8884999805   \n",
       "207          Yes   4.1   2339  080 22443007\\r\\n+91 9901967373   \n",
       "217          Yes   4.3   1129  080 41558423\\r\\n+91 7619320074   \n",
       "...          ...   ...    ...                             ...   \n",
       "51707         No   3.9     77                    080 49435000   \n",
       "51708         No   2.8    161    080 39451000\\n+91 8884038484   \n",
       "51712         No   3.6     27                    080 40301477   \n",
       "51715        Yes   4.3    236                    080 49652769   \n",
       "51716         No   3.4     13                  +91 8071117272   \n",
       "\n",
       "                         location           rest_type  \\\n",
       "67                   Banashankari                 Pub   \n",
       "119                  Banashankari                 Bar   \n",
       "166                     Jayanagar       Casual Dining   \n",
       "207                     Jayanagar       Casual Dining   \n",
       "217                     Jayanagar       Casual Dining   \n",
       "...                           ...                 ...   \n",
       "51707                  Whitefield    Fine Dining, Bar   \n",
       "51708                  Whitefield  Casual Dining, Bar   \n",
       "51712                  Whitefield                 Bar   \n",
       "51715  ITPL Main Road, Whitefield                 Bar   \n",
       "51716  ITPL Main Road, Whitefield  Bar, Casual Dining   \n",
       "\n",
       "                                              dish_liked  \\\n",
       "67     Beer, Wedges, Pizza, Nachos, Salads, Papaya Sa...   \n",
       "119                                                  NaN   \n",
       "166    Noodles, Laksa Soup, Coffee, Veg Fritters, Veg...   \n",
       "207    Veg Momos, Brownie Chocolate, Palak Chaat, Mut...   \n",
       "217    Pizza, Pasta, Salads, Calamari, Ravioli, Pumpk...   \n",
       "...                                                  ...   \n",
       "51707                                   Rooftop Ambience   \n",
       "51708  Salads, Coffee, Breakfast Buffet, Halwa, Chick...   \n",
       "51712                                                NaN   \n",
       "51715                       Cocktails, Pizza, Buttermilk   \n",
       "51716                                                NaN   \n",
       "\n",
       "                                                cuisines  \\\n",
       "67     Continental, Italian, Mexican, North Indian, C...   \n",
       "119                                Chinese, North Indian   \n",
       "166                     Thai, Vietnamese, Asian, Chinese   \n",
       "207                           North Indian, Chinese, BBQ   \n",
       "217                                       Italian, Salad   \n",
       "...                                                  ...   \n",
       "51707                                        Finger Food   \n",
       "51708                 Chinese, Continental, North Indian   \n",
       "51712                                        Continental   \n",
       "51715                                        Finger Food   \n",
       "51716             Finger Food, North Indian, Continental   \n",
       "\n",
       "      approx_cost(for two people)  \\\n",
       "67                          1,200   \n",
       "119                         1,000   \n",
       "166                         1,200   \n",
       "207                         1,500   \n",
       "217                         1,300   \n",
       "...                           ...   \n",
       "51707                       2,000   \n",
       "51708                       1,200   \n",
       "51712                       1,500   \n",
       "51715                       2,500   \n",
       "51716                       1,500   \n",
       "\n",
       "                                            reviews_list menu_item  \\\n",
       "67     [('Rated 5.0', 'RATED\\n  Has a really calm roo...        []   \n",
       "119    [('Rated 4.0', \"RATED\\n  Convenient and Averag...        []   \n",
       "166    [('Rated 4.0', \"RATED\\n  The number of good re...        []   \n",
       "207    [('Rated 4.0', 'RATED\\n  Great place for team ...        []   \n",
       "217    [('Rated 4.0', 'RATED\\n  Saturday Night Dinner...        []   \n",
       "...                                                  ...       ...   \n",
       "51707  [('Rated 4.0', 'RATED\\n  Went there post dinne...        []   \n",
       "51708  [('Rated 3.0', 'RATED\\n  Place is good not tha...        []   \n",
       "51712  [('Rated 5.0', \"RATED\\n  Food and service are ...        []   \n",
       "51715  [('Rated 4.0', 'RATED\\n  Nice and friendly pla...        []   \n",
       "51716  [('Rated 5.0', 'RATED\\n  Great ambience , look...        []   \n",
       "\n",
       "      listed_in(type) listed_in(city)  \n",
       "67           Delivery    Banashankari  \n",
       "119          Delivery    Banashankari  \n",
       "166          Delivery    Banashankari  \n",
       "207          Delivery    Banashankari  \n",
       "217          Delivery    Banashankari  \n",
       "...               ...             ...  \n",
       "51707   Pubs and bars      Whitefield  \n",
       "51708   Pubs and bars      Whitefield  \n",
       "51712   Pubs and bars      Whitefield  \n",
       "51715   Pubs and bars      Whitefield  \n",
       "51716   Pubs and bars      Whitefield  \n",
       "\n",
       "[6798 rows x 17 columns]"
      ]
     },
     "execution_count": 48,
     "metadata": {},
     "output_type": "execute_result"
    }
   ],
   "source": [
    "df[~df['approx_cost(for two people)'].apply(is_float)]"
   ]
  },
  {
   "cell_type": "code",
   "execution_count": 49,
   "id": "8165809c",
   "metadata": {},
   "outputs": [
    {
     "data": {
      "text/plain": [
       "dtype('O')"
      ]
     },
     "execution_count": 49,
     "metadata": {},
     "output_type": "execute_result"
    }
   ],
   "source": [
    "df['approx_cost(for two people)'].dtype"
   ]
  },
  {
   "cell_type": "code",
   "execution_count": 50,
   "id": "15b79755",
   "metadata": {},
   "outputs": [
    {
     "data": {
      "text/plain": [
       "0          800\n",
       "1          800\n",
       "2          800\n",
       "3          300\n",
       "4          600\n",
       "         ...  \n",
       "51709      800\n",
       "51711      800\n",
       "51712    1,500\n",
       "51715    2,500\n",
       "51716    1,500\n",
       "Name: approx_cost(for two people), Length: 43690, dtype: object"
      ]
     },
     "execution_count": 50,
     "metadata": {},
     "output_type": "execute_result"
    }
   ],
   "source": [
    "df['approx_cost(for two people)']"
   ]
  },
  {
   "cell_type": "code",
   "execution_count": 51,
   "id": "7e07a838",
   "metadata": {},
   "outputs": [
    {
     "data": {
      "text/plain": [
       "str"
      ]
     },
     "execution_count": 51,
     "metadata": {},
     "output_type": "execute_result"
    }
   ],
   "source": [
    "type(df['approx_cost(for two people)'][0])"
   ]
  },
  {
   "cell_type": "code",
   "execution_count": 52,
   "id": "bc995be9",
   "metadata": {},
   "outputs": [],
   "source": [
    "df['approx_cost(for two people)'] = df['approx_cost(for two people)'].apply(lambda x: x.replace(',',''))"
   ]
  },
  {
   "cell_type": "code",
   "execution_count": 53,
   "id": "7a9d737d",
   "metadata": {},
   "outputs": [
    {
     "data": {
      "text/plain": [
       "0         800\n",
       "1         800\n",
       "2         800\n",
       "3         300\n",
       "4         600\n",
       "         ... \n",
       "51709     800\n",
       "51711     800\n",
       "51712    1500\n",
       "51715    2500\n",
       "51716    1500\n",
       "Name: approx_cost(for two people), Length: 43690, dtype: int32"
      ]
     },
     "execution_count": 53,
     "metadata": {},
     "output_type": "execute_result"
    }
   ],
   "source": [
    "df['approx_cost(for two people)'].astype(int)"
   ]
  },
  {
   "cell_type": "markdown",
   "id": "c8982de0",
   "metadata": {},
   "source": [
    "Is there any difference between votes of resturants accepting and not accepting online orders"
   ]
  },
  {
   "cell_type": "code",
   "execution_count": 54,
   "id": "d876cc42",
   "metadata": {},
   "outputs": [
    {
     "data": {
      "text/plain": [
       "<Axes: xlabel='online_order', ylabel='votes'>"
      ]
     },
     "execution_count": 54,
     "metadata": {},
     "output_type": "execute_result"
    },
    {
     "data": {
      "image/png": "[encoded data removed]",
      "text/plain": [
       "<Figure size 640x480 with 1 Axes>"
      ]
     },
     "metadata": {},
     "output_type": "display_data"
    }
   ],
   "source": [
    "sns.boxplot(x='online_order',y='votes',data=df)"
   ]
  },
  {
   "cell_type": "markdown",
   "id": "c8706674",
   "metadata": {},
   "source": [
    "Restaurants accepting online orders get more votes from customers as there is a rating option poping up after each order through zomato application."
   ]
  },
  {
   "cell_type": "markdown",
   "id": "0c357c65",
   "metadata": {},
   "source": [
    "Is there any difference b/w price of restaurants accepting and not accepting online orders?"
   ]
  },
  {
   "cell_type": "code",
   "execution_count": 55,
   "id": "7d10e069",
   "metadata": {},
   "outputs": [
    {
     "data": {
      "text/plain": [
       "<Axes: xlabel='online_order', ylabel='approx_cost(for two people)'>"
      ]
     },
     "execution_count": 55,
     "metadata": {},
     "output_type": "execute_result"
    },
    {
     "data": {
      "image/png": "[encoded data removed]",
      "text/plain": [
       "<Figure size 640x480 with 1 Axes>"
      ]
     },
     "metadata": {},
     "output_type": "display_data"
    }
   ],
   "source": [
    "df['approx_cost(for two people)']=df['approx_cost(for two people)'].astype(int)\n",
    "sns.boxplot(x='online_order',y='approx_cost(for two people)',data=df)"
   ]
  },
  {
   "cell_type": "markdown",
   "id": "404b3ada",
   "metadata": {},
   "source": [
    "Restaurants accepting online orders are more affordable than Restaurants who are accepting online orders"
   ]
  },
  {
   "cell_type": "markdown",
   "id": "1d7431d0",
   "metadata": {},
   "source": [
    "Cheapest Rate for 2 people"
   ]
  },
  {
   "cell_type": "code",
   "execution_count": 56,
   "id": "f63be8a1",
   "metadata": {},
   "outputs": [
    {
     "data": {
      "text/plain": [
       "40"
      ]
     },
     "execution_count": 56,
     "metadata": {},
     "output_type": "execute_result"
    }
   ],
   "source": [
    "df['approx_cost(for two people)'].min()"
   ]
  },
  {
   "cell_type": "markdown",
   "id": "2af6e997",
   "metadata": {},
   "source": [
    "Most costly for two People"
   ]
  },
  {
   "cell_type": "code",
   "execution_count": 57,
   "id": "4c57bc6c",
   "metadata": {},
   "outputs": [
    {
     "data": {
      "text/plain": [
       "6000"
      ]
     },
     "execution_count": 57,
     "metadata": {},
     "output_type": "execute_result"
    }
   ],
   "source": [
    "df['approx_cost(for two people)'].max()"
   ]
  },
  {
   "cell_type": "code",
   "execution_count": 58,
   "id": "9051e708",
   "metadata": {},
   "outputs": [
    {
     "data": {
      "text/html": [
       "<div>\n",
       "<style scoped>\n",
       "    .dataframe tbody tr th:only-of-type {\n",
       "        vertical-align: middle;\n",
       "    }\n",
       "\n",
       "    .dataframe tbody tr th {\n",
       "        vertical-align: top;\n",
       "    }\n",
       "\n",
       "    .dataframe thead th {\n",
       "        text-align: right;\n",
       "    }\n",
       "</style>\n",
       "<table border=\"1\" class=\"dataframe\">\n",
       "  <thead>\n",
       "    <tr style=\"text-align: right;\">\n",
       "      <th></th>\n",
       "      <th>url</th>\n",
       "      <th>address</th>\n",
       "      <th>name</th>\n",
       "      <th>online_order</th>\n",
       "      <th>book_table</th>\n",
       "      <th>rate</th>\n",
       "      <th>votes</th>\n",
       "      <th>phone</th>\n",
       "      <th>location</th>\n",
       "      <th>rest_type</th>\n",
       "      <th>dish_liked</th>\n",
       "      <th>cuisines</th>\n",
       "      <th>approx_cost(for two people)</th>\n",
       "      <th>reviews_list</th>\n",
       "      <th>menu_item</th>\n",
       "      <th>listed_in(type)</th>\n",
       "      <th>listed_in(city)</th>\n",
       "    </tr>\n",
       "  </thead>\n",
       "  <tbody>\n",
       "    <tr>\n",
       "      <th>19139</th>\n",
       "      <td>https://www.zomato.com/bangalore/le-cirque-sig...</td>\n",
       "      <td>The Leela Palace, 23, Old Airport Road, Bangalore</td>\n",
       "      <td>Le Cirque Signature - The Leela Palace</td>\n",
       "      <td>No</td>\n",
       "      <td>Yes</td>\n",
       "      <td>4.3</td>\n",
       "      <td>126</td>\n",
       "      <td>080 30571234\\r\\n080 30571540</td>\n",
       "      <td>Old Airport Road</td>\n",
       "      <td>Fine Dining</td>\n",
       "      <td>Wine, Asparagus Soup, Creme Brulee, Pasta, Rav...</td>\n",
       "      <td>French, Italian</td>\n",
       "      <td>6000</td>\n",
       "      <td>[('Rated 5.0', 'RATED\\n  Awesome would be an u...</td>\n",
       "      <td>[]</td>\n",
       "      <td>Dine-out</td>\n",
       "      <td>Indiranagar</td>\n",
       "    </tr>\n",
       "    <tr>\n",
       "      <th>45618</th>\n",
       "      <td>https://www.zomato.com/bangalore/le-cirque-sig...</td>\n",
       "      <td>The Leela Palace, 23, Old Airport Road, Bangalore</td>\n",
       "      <td>Le Cirque Signature - The Leela Palace</td>\n",
       "      <td>No</td>\n",
       "      <td>Yes</td>\n",
       "      <td>4.3</td>\n",
       "      <td>128</td>\n",
       "      <td>080 30571234\\n080 30571540</td>\n",
       "      <td>Old Airport Road</td>\n",
       "      <td>Fine Dining</td>\n",
       "      <td>Wine, Asparagus Soup, Creme Brulee, Pasta, Rav...</td>\n",
       "      <td>French, Italian</td>\n",
       "      <td>6000</td>\n",
       "      <td>[('Rated 5.0', 'RATED\\n  Awesome would be an u...</td>\n",
       "      <td>[]</td>\n",
       "      <td>Dine-out</td>\n",
       "      <td>Old Airport Road</td>\n",
       "    </tr>\n",
       "  </tbody>\n",
       "</table>\n",
       "</div>"
      ],
      "text/plain": [
       "                                                     url  \\\n",
       "19139  https://www.zomato.com/bangalore/le-cirque-sig...   \n",
       "45618  https://www.zomato.com/bangalore/le-cirque-sig...   \n",
       "\n",
       "                                                 address  \\\n",
       "19139  The Leela Palace, 23, Old Airport Road, Bangalore   \n",
       "45618  The Leela Palace, 23, Old Airport Road, Bangalore   \n",
       "\n",
       "                                         name online_order book_table  rate  \\\n",
       "19139  Le Cirque Signature - The Leela Palace           No        Yes   4.3   \n",
       "45618  Le Cirque Signature - The Leela Palace           No        Yes   4.3   \n",
       "\n",
       "       votes                         phone          location    rest_type  \\\n",
       "19139    126  080 30571234\\r\\n080 30571540  Old Airport Road  Fine Dining   \n",
       "45618    128    080 30571234\\n080 30571540  Old Airport Road  Fine Dining   \n",
       "\n",
       "                                              dish_liked         cuisines  \\\n",
       "19139  Wine, Asparagus Soup, Creme Brulee, Pasta, Rav...  French, Italian   \n",
       "45618  Wine, Asparagus Soup, Creme Brulee, Pasta, Rav...  French, Italian   \n",
       "\n",
       "       approx_cost(for two people)  \\\n",
       "19139                         6000   \n",
       "45618                         6000   \n",
       "\n",
       "                                            reviews_list menu_item  \\\n",
       "19139  [('Rated 5.0', 'RATED\\n  Awesome would be an u...        []   \n",
       "45618  [('Rated 5.0', 'RATED\\n  Awesome would be an u...        []   \n",
       "\n",
       "      listed_in(type)   listed_in(city)  \n",
       "19139        Dine-out       Indiranagar  \n",
       "45618        Dine-out  Old Airport Road  "
      ]
     },
     "execution_count": 58,
     "metadata": {},
     "output_type": "execute_result"
    }
   ],
   "source": [
    "df[df['approx_cost(for two people)'] == 6000]"
   ]
  },
  {
   "cell_type": "code",
   "execution_count": 59,
   "id": "df657d08",
   "metadata": {},
   "outputs": [
    {
     "data": {
      "text/plain": [
       "19139    Le Cirque Signature - The Leela Palace\n",
       "45618    Le Cirque Signature - The Leela Palace\n",
       "Name: name, dtype: object"
      ]
     },
     "execution_count": 59,
     "metadata": {},
     "output_type": "execute_result"
    }
   ],
   "source": [
    "df[df['approx_cost(for two people)'] == 6000]['name']"
   ]
  },
  {
   "cell_type": "markdown",
   "id": "175dfcd3",
   "metadata": {},
   "source": [
    "Distribution of cost for two people"
   ]
  },
  {
   "cell_type": "code",
   "execution_count": 60,
   "id": "4a4bb7e8",
   "metadata": {},
   "outputs": [
    {
     "name": "stderr",
     "output_type": "stream",
     "text": [
      "C:\\Users\\HP\\AppData\\Local\\Temp\\ipykernel_39440\\1130735022.py:2: UserWarning: \n",
      "\n",
      "`distplot` is a deprecated function and will be removed in seaborn v0.14.0.\n",
      "\n",
      "Please adapt your code to use either `displot` (a figure-level function with\n",
      "similar flexibility) or `histplot` (an axes-level function for histograms).\n",
      "\n",
      "For a guide to updating your code to use the new functions, please see\n",
      "https://gist.github.com/mwaskom/de44147ed2974457ad6372750bbe5751\n",
      "\n",
      "  sns.distplot(df['approx_cost(for two people)'])\n"
     ]
    },
    {
     "data": {
      "image/png": "[encoded data removed]",
      "text/plain": [
       "<Figure size 600x600 with 1 Axes>"
      ]
     },
     "metadata": {},
     "output_type": "display_data"
    }
   ],
   "source": [
    "plt.figure(figsize=(6,6))\n",
    "sns.distplot(df['approx_cost(for two people)'])\n",
    "plt.show()"
   ]
  },
  {
   "cell_type": "markdown",
   "id": "c6b9fd7b",
   "metadata": {},
   "source": [
    "Most of the price lies between in a range of under 1000,it means most are affordable & very few are luxurious"
   ]
  },
  {
   "cell_type": "markdown",
   "id": "af76b6e2",
   "metadata": {},
   "source": [
    "Most costly Rate for 2 people is served at which Restaurant what exactly is the dish involved in this and liked dish of that restaurant"
   ]
  },
  {
   "cell_type": "code",
   "execution_count": 61,
   "id": "c82c0e5f",
   "metadata": {},
   "outputs": [
    {
     "data": {
      "text/html": [
       "<div>\n",
       "<style scoped>\n",
       "    .dataframe tbody tr th:only-of-type {\n",
       "        vertical-align: middle;\n",
       "    }\n",
       "\n",
       "    .dataframe tbody tr th {\n",
       "        vertical-align: top;\n",
       "    }\n",
       "\n",
       "    .dataframe thead th {\n",
       "        text-align: right;\n",
       "    }\n",
       "</style>\n",
       "<table border=\"1\" class=\"dataframe\">\n",
       "  <thead>\n",
       "    <tr style=\"text-align: right;\">\n",
       "      <th></th>\n",
       "      <th>name</th>\n",
       "      <th>cuisines</th>\n",
       "      <th>dish_liked</th>\n",
       "    </tr>\n",
       "  </thead>\n",
       "  <tbody>\n",
       "    <tr>\n",
       "      <th>19139</th>\n",
       "      <td>Le Cirque Signature - The Leela Palace</td>\n",
       "      <td>French, Italian</td>\n",
       "      <td>Wine, Asparagus Soup, Creme Brulee, Pasta, Rav...</td>\n",
       "    </tr>\n",
       "    <tr>\n",
       "      <th>45618</th>\n",
       "      <td>Le Cirque Signature - The Leela Palace</td>\n",
       "      <td>French, Italian</td>\n",
       "      <td>Wine, Asparagus Soup, Creme Brulee, Pasta, Rav...</td>\n",
       "    </tr>\n",
       "  </tbody>\n",
       "</table>\n",
       "</div>"
      ],
      "text/plain": [
       "                                         name         cuisines  \\\n",
       "19139  Le Cirque Signature - The Leela Palace  French, Italian   \n",
       "45618  Le Cirque Signature - The Leela Palace  French, Italian   \n",
       "\n",
       "                                              dish_liked  \n",
       "19139  Wine, Asparagus Soup, Creme Brulee, Pasta, Rav...  \n",
       "45618  Wine, Asparagus Soup, Creme Brulee, Pasta, Rav...  "
      ]
     },
     "execution_count": 61,
     "metadata": {},
     "output_type": "execute_result"
    }
   ],
   "source": [
    "df[df['approx_cost(for two people)']==6000].loc[:,('name','cuisines','dish_liked')]"
   ]
  },
  {
   "cell_type": "code",
   "execution_count": 62,
   "id": "536fc870",
   "metadata": {},
   "outputs": [
    {
     "data": {
      "text/html": [
       "<div>\n",
       "<style scoped>\n",
       "    .dataframe tbody tr th:only-of-type {\n",
       "        vertical-align: middle;\n",
       "    }\n",
       "\n",
       "    .dataframe tbody tr th {\n",
       "        vertical-align: top;\n",
       "    }\n",
       "\n",
       "    .dataframe thead th {\n",
       "        text-align: right;\n",
       "    }\n",
       "</style>\n",
       "<table border=\"1\" class=\"dataframe\">\n",
       "  <thead>\n",
       "    <tr style=\"text-align: right;\">\n",
       "      <th></th>\n",
       "      <th>name</th>\n",
       "      <th>cuisines</th>\n",
       "      <th>dish_liked</th>\n",
       "    </tr>\n",
       "  </thead>\n",
       "  <tbody>\n",
       "    <tr>\n",
       "      <th>19139</th>\n",
       "      <td>Le Cirque Signature - The Leela Palace</td>\n",
       "      <td>French, Italian</td>\n",
       "      <td>Wine, Asparagus Soup, Creme Brulee, Pasta, Rav...</td>\n",
       "    </tr>\n",
       "    <tr>\n",
       "      <th>45618</th>\n",
       "      <td>Le Cirque Signature - The Leela Palace</td>\n",
       "      <td>French, Italian</td>\n",
       "      <td>Wine, Asparagus Soup, Creme Brulee, Pasta, Rav...</td>\n",
       "    </tr>\n",
       "  </tbody>\n",
       "</table>\n",
       "</div>"
      ],
      "text/plain": [
       "                                         name         cuisines  \\\n",
       "19139  Le Cirque Signature - The Leela Palace  French, Italian   \n",
       "45618  Le Cirque Signature - The Leela Palace  French, Italian   \n",
       "\n",
       "                                              dish_liked  \n",
       "19139  Wine, Asparagus Soup, Creme Brulee, Pasta, Rav...  \n",
       "45618  Wine, Asparagus Soup, Creme Brulee, Pasta, Rav...  "
      ]
     },
     "execution_count": 62,
     "metadata": {},
     "output_type": "execute_result"
    }
   ],
   "source": [
    "df[df['approx_cost(for two people)']==6000][['name','cuisines','dish_liked']]"
   ]
  },
  {
   "cell_type": "code",
   "execution_count": 63,
   "id": "4d108f0a",
   "metadata": {},
   "outputs": [],
   "source": [
    "data = df.copy()"
   ]
  },
  {
   "cell_type": "code",
   "execution_count": 64,
   "id": "193b1dcc",
   "metadata": {},
   "outputs": [
    {
     "data": {
      "text/plain": [
       "url                             object\n",
       "address                         object\n",
       "name                            object\n",
       "online_order                    object\n",
       "book_table                      object\n",
       "rate                           float64\n",
       "votes                            int64\n",
       "phone                           object\n",
       "location                        object\n",
       "rest_type                       object\n",
       "dish_liked                      object\n",
       "cuisines                        object\n",
       "approx_cost(for two people)      int32\n",
       "reviews_list                    object\n",
       "menu_item                       object\n",
       "listed_in(type)                 object\n",
       "listed_in(city)                 object\n",
       "dtype: object"
      ]
     },
     "execution_count": 64,
     "metadata": {},
     "output_type": "execute_result"
    }
   ],
   "source": [
    "data.dtypes"
   ]
  },
  {
   "cell_type": "code",
   "execution_count": 65,
   "id": "9924e4bb",
   "metadata": {},
   "outputs": [],
   "source": [
    "data.set_index('name',inplace=True)"
   ]
  },
  {
   "cell_type": "markdown",
   "id": "de82b4cb",
   "metadata": {},
   "source": [
    "Top 10 Most Expensive restaurant with approx cost for 2 people"
   ]
  },
  {
   "cell_type": "code",
   "execution_count": 66,
   "id": "644d1a8d",
   "metadata": {},
   "outputs": [
    {
     "data": {
      "text/plain": [
       "<Axes: xlabel='name'>"
      ]
     },
     "execution_count": 66,
     "metadata": {},
     "output_type": "execute_result"
    },
    {
     "data": {
      "image/png": "[encoded data removed]",
      "text/plain": [
       "<Figure size 640x480 with 1 Axes>"
      ]
     },
     "metadata": {},
     "output_type": "display_data"
    }
   ],
   "source": [
    "data['approx_cost(for two people)'].nlargest(10).plot.bar()"
   ]
  },
  {
   "cell_type": "markdown",
   "id": "7764a5a7",
   "metadata": {},
   "source": [
    "Top 10 Cheapest restaurant with approx cost for 2 people"
   ]
  },
  {
   "cell_type": "code",
   "execution_count": 67,
   "id": "870cf5d7",
   "metadata": {},
   "outputs": [
    {
     "data": {
      "text/plain": [
       "<Axes: xlabel='name'>"
      ]
     },
     "execution_count": 67,
     "metadata": {},
     "output_type": "execute_result"
    },
    {
     "data": {
      "image/png": "[encoded data removed]",
      "text/plain": [
       "<Figure size 640x480 with 1 Axes>"
      ]
     },
     "metadata": {},
     "output_type": "display_data"
    }
   ],
   "source": [
    "data['approx_cost(for two people)'].nsmallest(10).plot.bar()"
   ]
  },
  {
   "cell_type": "markdown",
   "id": "cf2608fa",
   "metadata": {},
   "source": [
    "Top 10 Cheapest restaurant location wise with approx cost for 2 people "
   ]
  },
  {
   "cell_type": "code",
   "execution_count": 69,
   "id": "3b935596",
   "metadata": {},
   "outputs": [
    {
     "data": {
      "text/plain": [
       "name\n",
       "Srinidhi Sagar Food Line    40\n",
       "Srinidhi Sagar Food Line    40\n",
       "Srinidhi Sagar Food Line    40\n",
       "Srinidhi Sagar              40\n",
       "Srinidhi Sagar Food Line    40\n",
       "Srinidhi Sagar Deluxe       40\n",
       "Srinidhi Sagar Deluxe       40\n",
       "Srinidhi Sagar              40\n",
       "Savera Cafe                 50\n",
       "Savera Cafe                 50\n",
       "Name: approx_cost(for two people), dtype: int32"
      ]
     },
     "execution_count": 69,
     "metadata": {},
     "output_type": "execute_result"
    }
   ],
   "source": [
    "data['approx_cost(for two people)'].nsmallest(10)"
   ]
  },
  {
   "cell_type": "markdown",
   "id": "06e795e4",
   "metadata": {},
   "source": [
    "All the restautant that are below than 500(budget hotel)"
   ]
  },
  {
   "cell_type": "code",
   "execution_count": 70,
   "id": "a0f43e8d",
   "metadata": {},
   "outputs": [
    {
     "data": {
      "text/html": [
       "<div>\n",
       "<style scoped>\n",
       "    .dataframe tbody tr th:only-of-type {\n",
       "        vertical-align: middle;\n",
       "    }\n",
       "\n",
       "    .dataframe tbody tr th {\n",
       "        vertical-align: top;\n",
       "    }\n",
       "\n",
       "    .dataframe thead th {\n",
       "        text-align: right;\n",
       "    }\n",
       "</style>\n",
       "<table border=\"1\" class=\"dataframe\">\n",
       "  <thead>\n",
       "    <tr style=\"text-align: right;\">\n",
       "      <th></th>\n",
       "      <th>url</th>\n",
       "      <th>address</th>\n",
       "      <th>online_order</th>\n",
       "      <th>book_table</th>\n",
       "      <th>rate</th>\n",
       "      <th>votes</th>\n",
       "      <th>phone</th>\n",
       "      <th>location</th>\n",
       "      <th>rest_type</th>\n",
       "      <th>dish_liked</th>\n",
       "      <th>cuisines</th>\n",
       "      <th>approx_cost(for two people)</th>\n",
       "      <th>reviews_list</th>\n",
       "      <th>menu_item</th>\n",
       "      <th>listed_in(type)</th>\n",
       "      <th>listed_in(city)</th>\n",
       "    </tr>\n",
       "    <tr>\n",
       "      <th>name</th>\n",
       "      <th></th>\n",
       "      <th></th>\n",
       "      <th></th>\n",
       "      <th></th>\n",
       "      <th></th>\n",
       "      <th></th>\n",
       "      <th></th>\n",
       "      <th></th>\n",
       "      <th></th>\n",
       "      <th></th>\n",
       "      <th></th>\n",
       "      <th></th>\n",
       "      <th></th>\n",
       "      <th></th>\n",
       "      <th></th>\n",
       "      <th></th>\n",
       "    </tr>\n",
       "  </thead>\n",
       "  <tbody>\n",
       "    <tr>\n",
       "      <th>Addhuri Udupi Bhojana</th>\n",
       "      <td>https://www.zomato.com/bangalore/addhuri-udupi...</td>\n",
       "      <td>1st Floor, Annakuteera, 3rd Stage, Banashankar...</td>\n",
       "      <td>No</td>\n",
       "      <td>No</td>\n",
       "      <td>3.7</td>\n",
       "      <td>88</td>\n",
       "      <td>+91 9620009302</td>\n",
       "      <td>Banashankari</td>\n",
       "      <td>Quick Bites</td>\n",
       "      <td>Masala Dosa</td>\n",
       "      <td>South Indian, North Indian</td>\n",
       "      <td>300</td>\n",
       "      <td>[('Rated 4.0', \"RATED\\n  Great food and proper...</td>\n",
       "      <td>[]</td>\n",
       "      <td>Buffet</td>\n",
       "      <td>Banashankari</td>\n",
       "    </tr>\n",
       "    <tr>\n",
       "      <th>Caf-Eleven</th>\n",
       "      <td>https://www.zomato.com/bangalore/caf-eleven-ba...</td>\n",
       "      <td>111, Sapphire Toys Building, 100 Feet Ring Roa...</td>\n",
       "      <td>No</td>\n",
       "      <td>No</td>\n",
       "      <td>4.0</td>\n",
       "      <td>424</td>\n",
       "      <td>080 49577715</td>\n",
       "      <td>Banashankari</td>\n",
       "      <td>Cafe</td>\n",
       "      <td>Sandwich, Omelette, Ice Tea, Virgin Mojito, Ho...</td>\n",
       "      <td>Cafe, Continental</td>\n",
       "      <td>450</td>\n",
       "      <td>[('Rated 2.0', \"RATED\\n  This is a hookah cafe...</td>\n",
       "      <td>[]</td>\n",
       "      <td>Cafes</td>\n",
       "      <td>Banashankari</td>\n",
       "    </tr>\n",
       "    <tr>\n",
       "      <th>T3H Cafe</th>\n",
       "      <td>https://www.zomato.com/bangalore/t3h-cafe-bana...</td>\n",
       "      <td>504, CJ Venkata Das Road, Padmanabhangar, 2nd ...</td>\n",
       "      <td>No</td>\n",
       "      <td>No</td>\n",
       "      <td>3.9</td>\n",
       "      <td>93</td>\n",
       "      <td>+91 8884726600</td>\n",
       "      <td>Banashankari</td>\n",
       "      <td>Cafe</td>\n",
       "      <td>Cheese Maggi, Peri Peri Fries, Pasta Arrabiata</td>\n",
       "      <td>Cafe, Italian, American</td>\n",
       "      <td>300</td>\n",
       "      <td>[('Rated 4.0', \"RATED\\n  Happy to see such a c...</td>\n",
       "      <td>[]</td>\n",
       "      <td>Cafes</td>\n",
       "      <td>Banashankari</td>\n",
       "    </tr>\n",
       "    <tr>\n",
       "      <th>360 Atoms Restaurant And Cafe</th>\n",
       "      <td>https://www.zomato.com/bangalore/360-atoms-res...</td>\n",
       "      <td>47, 48 &amp;49, 3Rd Floor, 21st Main Road, 2nd Sta...</td>\n",
       "      <td>Yes</td>\n",
       "      <td>No</td>\n",
       "      <td>3.1</td>\n",
       "      <td>13</td>\n",
       "      <td>+91 9880594520</td>\n",
       "      <td>Banashankari</td>\n",
       "      <td>Cafe</td>\n",
       "      <td>NaN</td>\n",
       "      <td>Cafe, Chinese, Continental, Italian</td>\n",
       "      <td>400</td>\n",
       "      <td>[('Rated 5.0', 'RATED\\n  Friendly staffs , nic...</td>\n",
       "      <td>[]</td>\n",
       "      <td>Cafes</td>\n",
       "      <td>Banashankari</td>\n",
       "    </tr>\n",
       "    <tr>\n",
       "      <th>The Vintage Cafe</th>\n",
       "      <td>https://www.zomato.com/bangalore/the-vintage-c...</td>\n",
       "      <td>146, 50 ft Road, 3rd Phase, 3rd Stage, Near Ka...</td>\n",
       "      <td>Yes</td>\n",
       "      <td>No</td>\n",
       "      <td>3.0</td>\n",
       "      <td>62</td>\n",
       "      <td>+91 9880016665\\r\\n+91 8217311687</td>\n",
       "      <td>Banashankari</td>\n",
       "      <td>Cafe</td>\n",
       "      <td>Burgers, Caramel Milkshake, Iced Coffee, Iced Tea</td>\n",
       "      <td>Cafe, French, North Indian</td>\n",
       "      <td>400</td>\n",
       "      <td>[('Rated 2.0', \"RATED\\n  This is a tiny cafÃ\\...</td>\n",
       "      <td>[]</td>\n",
       "      <td>Cafes</td>\n",
       "      <td>Banashankari</td>\n",
       "    </tr>\n",
       "    <tr>\n",
       "      <th>...</th>\n",
       "      <td>...</td>\n",
       "      <td>...</td>\n",
       "      <td>...</td>\n",
       "      <td>...</td>\n",
       "      <td>...</td>\n",
       "      <td>...</td>\n",
       "      <td>...</td>\n",
       "      <td>...</td>\n",
       "      <td>...</td>\n",
       "      <td>...</td>\n",
       "      <td>...</td>\n",
       "      <td>...</td>\n",
       "      <td>...</td>\n",
       "      <td>...</td>\n",
       "      <td>...</td>\n",
       "      <td>...</td>\n",
       "    </tr>\n",
       "    <tr>\n",
       "      <th>Venice Kerala Restaurant</th>\n",
       "      <td>https://www.zomato.com/bangalore/venice-kerala...</td>\n",
       "      <td>Opposite Brookfield Mall, Shiva Temple Road, B...</td>\n",
       "      <td>No</td>\n",
       "      <td>No</td>\n",
       "      <td>3.7</td>\n",
       "      <td>34</td>\n",
       "      <td>+91 8880059495</td>\n",
       "      <td>Brookefield</td>\n",
       "      <td>Quick Bites</td>\n",
       "      <td>NaN</td>\n",
       "      <td>Kerala</td>\n",
       "      <td>200</td>\n",
       "      <td>[('Rated 5.0', 'RATED\\n  Loved this restaurant...</td>\n",
       "      <td>[]</td>\n",
       "      <td>Dine-out</td>\n",
       "      <td>Whitefield</td>\n",
       "    </tr>\n",
       "    <tr>\n",
       "      <th>Thai &amp; Chinese Fast Food</th>\n",
       "      <td>https://www.zomato.com/bangalore/thai-chinese-...</td>\n",
       "      <td>7, Anurhh Arcade, Hoodi Road, Kodigehalli Road...</td>\n",
       "      <td>No</td>\n",
       "      <td>No</td>\n",
       "      <td>3.4</td>\n",
       "      <td>7</td>\n",
       "      <td>+91 9206260085\\n+91 7619416923</td>\n",
       "      <td>KR Puram</td>\n",
       "      <td>Quick Bites</td>\n",
       "      <td>NaN</td>\n",
       "      <td>Chinese, Thai</td>\n",
       "      <td>400</td>\n",
       "      <td>[('Rated 5.0', 'RATED\\n  Its Looking delicious...</td>\n",
       "      <td>[]</td>\n",
       "      <td>Dine-out</td>\n",
       "      <td>Whitefield</td>\n",
       "    </tr>\n",
       "    <tr>\n",
       "      <th>The Crunch</th>\n",
       "      <td>https://www.zomato.com/bangalore/the-crunch-br...</td>\n",
       "      <td>33/1, Kundalahalli Road, Brookefield, Bangalore</td>\n",
       "      <td>No</td>\n",
       "      <td>No</td>\n",
       "      <td>3.3</td>\n",
       "      <td>6</td>\n",
       "      <td>+91 9016277963</td>\n",
       "      <td>Brookefield</td>\n",
       "      <td>Beverage Shop</td>\n",
       "      <td>NaN</td>\n",
       "      <td>Beverages</td>\n",
       "      <td>300</td>\n",
       "      <td>[('Rated 3.0', 'RATED\\n  the sandwich was not ...</td>\n",
       "      <td>[]</td>\n",
       "      <td>Dine-out</td>\n",
       "      <td>Whitefield</td>\n",
       "    </tr>\n",
       "    <tr>\n",
       "      <th>Punjabi Charchay</th>\n",
       "      <td>https://www.zomato.com/bangalore/punjabi-charc...</td>\n",
       "      <td>7, Anurhh Arcade, Hoodi Road, Kodigehalli Road...</td>\n",
       "      <td>No</td>\n",
       "      <td>No</td>\n",
       "      <td>3.6</td>\n",
       "      <td>31</td>\n",
       "      <td>+91 9341341916\\n+91 7619416499</td>\n",
       "      <td>KR Puram</td>\n",
       "      <td>Quick Bites</td>\n",
       "      <td>NaN</td>\n",
       "      <td>North Indian, Chinese</td>\n",
       "      <td>400</td>\n",
       "      <td>[('Rated 3.0', 'RATED\\n  A nice little place f...</td>\n",
       "      <td>[]</td>\n",
       "      <td>Dine-out</td>\n",
       "      <td>Whitefield</td>\n",
       "    </tr>\n",
       "    <tr>\n",
       "      <th>Raapchick</th>\n",
       "      <td>https://www.zomato.com/bangalore/raapchick-bro...</td>\n",
       "      <td>Opposite Brookefield Mall, Kundanhalli, Brooke...</td>\n",
       "      <td>Yes</td>\n",
       "      <td>No</td>\n",
       "      <td>3.6</td>\n",
       "      <td>49</td>\n",
       "      <td>080 41717785\\n+91 9571153004</td>\n",
       "      <td>Brookefield</td>\n",
       "      <td>Quick Bites</td>\n",
       "      <td>Burgers</td>\n",
       "      <td>Fast Food, Burger</td>\n",
       "      <td>300</td>\n",
       "      <td>[('Rated 5.0', \"RATED\\n  I was randomly lookin...</td>\n",
       "      <td>['Chicken Wrap', 'Veg Crunch Burger', 'Spicy P...</td>\n",
       "      <td>Dine-out</td>\n",
       "      <td>Whitefield</td>\n",
       "    </tr>\n",
       "  </tbody>\n",
       "</table>\n",
       "<p>22004 rows × 16 columns</p>\n",
       "</div>"
      ],
      "text/plain": [
       "                                                                             url  \\\n",
       "name                                                                               \n",
       "Addhuri Udupi Bhojana          https://www.zomato.com/bangalore/addhuri-udupi...   \n",
       "Caf-Eleven                     https://www.zomato.com/bangalore/caf-eleven-ba...   \n",
       "T3H Cafe                       https://www.zomato.com/bangalore/t3h-cafe-bana...   \n",
       "360 Atoms Restaurant And Cafe  https://www.zomato.com/bangalore/360-atoms-res...   \n",
       "The Vintage Cafe               https://www.zomato.com/bangalore/the-vintage-c...   \n",
       "...                                                                          ...   \n",
       "Venice Kerala Restaurant       https://www.zomato.com/bangalore/venice-kerala...   \n",
       "Thai & Chinese Fast Food       https://www.zomato.com/bangalore/thai-chinese-...   \n",
       "The Crunch                     https://www.zomato.com/bangalore/the-crunch-br...   \n",
       "Punjabi Charchay               https://www.zomato.com/bangalore/punjabi-charc...   \n",
       "Raapchick                      https://www.zomato.com/bangalore/raapchick-bro...   \n",
       "\n",
       "                                                                         address  \\\n",
       "name                                                                               \n",
       "Addhuri Udupi Bhojana          1st Floor, Annakuteera, 3rd Stage, Banashankar...   \n",
       "Caf-Eleven                     111, Sapphire Toys Building, 100 Feet Ring Roa...   \n",
       "T3H Cafe                       504, CJ Venkata Das Road, Padmanabhangar, 2nd ...   \n",
       "360 Atoms Restaurant And Cafe  47, 48 &49, 3Rd Floor, 21st Main Road, 2nd Sta...   \n",
       "The Vintage Cafe               146, 50 ft Road, 3rd Phase, 3rd Stage, Near Ka...   \n",
       "...                                                                          ...   \n",
       "Venice Kerala Restaurant       Opposite Brookfield Mall, Shiva Temple Road, B...   \n",
       "Thai & Chinese Fast Food       7, Anurhh Arcade, Hoodi Road, Kodigehalli Road...   \n",
       "The Crunch                       33/1, Kundalahalli Road, Brookefield, Bangalore   \n",
       "Punjabi Charchay               7, Anurhh Arcade, Hoodi Road, Kodigehalli Road...   \n",
       "Raapchick                      Opposite Brookefield Mall, Kundanhalli, Brooke...   \n",
       "\n",
       "                              online_order book_table  rate  votes  \\\n",
       "name                                                                 \n",
       "Addhuri Udupi Bhojana                   No         No   3.7     88   \n",
       "Caf-Eleven                              No         No   4.0    424   \n",
       "T3H Cafe                                No         No   3.9     93   \n",
       "360 Atoms Restaurant And Cafe          Yes         No   3.1     13   \n",
       "The Vintage Cafe                       Yes         No   3.0     62   \n",
       "...                                    ...        ...   ...    ...   \n",
       "Venice Kerala Restaurant                No         No   3.7     34   \n",
       "Thai & Chinese Fast Food                No         No   3.4      7   \n",
       "The Crunch                              No         No   3.3      6   \n",
       "Punjabi Charchay                        No         No   3.6     31   \n",
       "Raapchick                              Yes         No   3.6     49   \n",
       "\n",
       "                                                          phone      location  \\\n",
       "name                                                                            \n",
       "Addhuri Udupi Bhojana                            +91 9620009302  Banashankari   \n",
       "Caf-Eleven                                         080 49577715  Banashankari   \n",
       "T3H Cafe                                         +91 8884726600  Banashankari   \n",
       "360 Atoms Restaurant And Cafe                    +91 9880594520  Banashankari   \n",
       "The Vintage Cafe               +91 9880016665\\r\\n+91 8217311687  Banashankari   \n",
       "...                                                         ...           ...   \n",
       "Venice Kerala Restaurant                         +91 8880059495   Brookefield   \n",
       "Thai & Chinese Fast Food         +91 9206260085\\n+91 7619416923      KR Puram   \n",
       "The Crunch                                       +91 9016277963   Brookefield   \n",
       "Punjabi Charchay                 +91 9341341916\\n+91 7619416499      KR Puram   \n",
       "Raapchick                          080 41717785\\n+91 9571153004   Brookefield   \n",
       "\n",
       "                                   rest_type  \\\n",
       "name                                           \n",
       "Addhuri Udupi Bhojana            Quick Bites   \n",
       "Caf-Eleven                              Cafe   \n",
       "T3H Cafe                                Cafe   \n",
       "360 Atoms Restaurant And Cafe           Cafe   \n",
       "The Vintage Cafe                        Cafe   \n",
       "...                                      ...   \n",
       "Venice Kerala Restaurant         Quick Bites   \n",
       "Thai & Chinese Fast Food         Quick Bites   \n",
       "The Crunch                     Beverage Shop   \n",
       "Punjabi Charchay                 Quick Bites   \n",
       "Raapchick                        Quick Bites   \n",
       "\n",
       "                                                                      dish_liked  \\\n",
       "name                                                                               \n",
       "Addhuri Udupi Bhojana                                                Masala Dosa   \n",
       "Caf-Eleven                     Sandwich, Omelette, Ice Tea, Virgin Mojito, Ho...   \n",
       "T3H Cafe                          Cheese Maggi, Peri Peri Fries, Pasta Arrabiata   \n",
       "360 Atoms Restaurant And Cafe                                                NaN   \n",
       "The Vintage Cafe               Burgers, Caramel Milkshake, Iced Coffee, Iced Tea   \n",
       "...                                                                          ...   \n",
       "Venice Kerala Restaurant                                                     NaN   \n",
       "Thai & Chinese Fast Food                                                     NaN   \n",
       "The Crunch                                                                   NaN   \n",
       "Punjabi Charchay                                                             NaN   \n",
       "Raapchick                                                                Burgers   \n",
       "\n",
       "                                                          cuisines  \\\n",
       "name                                                                 \n",
       "Addhuri Udupi Bhojana                   South Indian, North Indian   \n",
       "Caf-Eleven                                       Cafe, Continental   \n",
       "T3H Cafe                                   Cafe, Italian, American   \n",
       "360 Atoms Restaurant And Cafe  Cafe, Chinese, Continental, Italian   \n",
       "The Vintage Cafe                        Cafe, French, North Indian   \n",
       "...                                                            ...   \n",
       "Venice Kerala Restaurant                                    Kerala   \n",
       "Thai & Chinese Fast Food                             Chinese, Thai   \n",
       "The Crunch                                               Beverages   \n",
       "Punjabi Charchay                             North Indian, Chinese   \n",
       "Raapchick                                        Fast Food, Burger   \n",
       "\n",
       "                               approx_cost(for two people)  \\\n",
       "name                                                         \n",
       "Addhuri Udupi Bhojana                                  300   \n",
       "Caf-Eleven                                             450   \n",
       "T3H Cafe                                               300   \n",
       "360 Atoms Restaurant And Cafe                          400   \n",
       "The Vintage Cafe                                       400   \n",
       "...                                                    ...   \n",
       "Venice Kerala Restaurant                               200   \n",
       "Thai & Chinese Fast Food                               400   \n",
       "The Crunch                                             300   \n",
       "Punjabi Charchay                                       400   \n",
       "Raapchick                                              300   \n",
       "\n",
       "                                                                    reviews_list  \\\n",
       "name                                                                               \n",
       "Addhuri Udupi Bhojana          [('Rated 4.0', \"RATED\\n  Great food and proper...   \n",
       "Caf-Eleven                     [('Rated 2.0', \"RATED\\n  This is a hookah cafe...   \n",
       "T3H Cafe                       [('Rated 4.0', \"RATED\\n  Happy to see such a c...   \n",
       "360 Atoms Restaurant And Cafe  [('Rated 5.0', 'RATED\\n  Friendly staffs , nic...   \n",
       "The Vintage Cafe               [('Rated 2.0', \"RATED\\n  This is a tiny cafÃ\\...   \n",
       "...                                                                          ...   \n",
       "Venice Kerala Restaurant       [('Rated 5.0', 'RATED\\n  Loved this restaurant...   \n",
       "Thai & Chinese Fast Food       [('Rated 5.0', 'RATED\\n  Its Looking delicious...   \n",
       "The Crunch                     [('Rated 3.0', 'RATED\\n  the sandwich was not ...   \n",
       "Punjabi Charchay               [('Rated 3.0', 'RATED\\n  A nice little place f...   \n",
       "Raapchick                      [('Rated 5.0', \"RATED\\n  I was randomly lookin...   \n",
       "\n",
       "                                                                       menu_item  \\\n",
       "name                                                                               \n",
       "Addhuri Udupi Bhojana                                                         []   \n",
       "Caf-Eleven                                                                    []   \n",
       "T3H Cafe                                                                      []   \n",
       "360 Atoms Restaurant And Cafe                                                 []   \n",
       "The Vintage Cafe                                                              []   \n",
       "...                                                                          ...   \n",
       "Venice Kerala Restaurant                                                      []   \n",
       "Thai & Chinese Fast Food                                                      []   \n",
       "The Crunch                                                                    []   \n",
       "Punjabi Charchay                                                              []   \n",
       "Raapchick                      ['Chicken Wrap', 'Veg Crunch Burger', 'Spicy P...   \n",
       "\n",
       "                              listed_in(type) listed_in(city)  \n",
       "name                                                           \n",
       "Addhuri Udupi Bhojana                  Buffet    Banashankari  \n",
       "Caf-Eleven                              Cafes    Banashankari  \n",
       "T3H Cafe                                Cafes    Banashankari  \n",
       "360 Atoms Restaurant And Cafe           Cafes    Banashankari  \n",
       "The Vintage Cafe                        Cafes    Banashankari  \n",
       "...                                       ...             ...  \n",
       "Venice Kerala Restaurant             Dine-out      Whitefield  \n",
       "Thai & Chinese Fast Food             Dine-out      Whitefield  \n",
       "The Crunch                           Dine-out      Whitefield  \n",
       "Punjabi Charchay                     Dine-out      Whitefield  \n",
       "Raapchick                            Dine-out      Whitefield  \n",
       "\n",
       "[22004 rows x 16 columns]"
      ]
     },
     "execution_count": 70,
     "metadata": {},
     "output_type": "execute_result"
    }
   ],
   "source": [
    "data[data['approx_cost(for two people)']<500]"
   ]
  },
  {
   "cell_type": "code",
   "execution_count": 76,
   "id": "ced8079c",
   "metadata": {},
   "outputs": [
    {
     "data": {
      "text/html": [
       "<div>\n",
       "<style scoped>\n",
       "    .dataframe tbody tr th:only-of-type {\n",
       "        vertical-align: middle;\n",
       "    }\n",
       "\n",
       "    .dataframe tbody tr th {\n",
       "        vertical-align: top;\n",
       "    }\n",
       "\n",
       "    .dataframe thead th {\n",
       "        text-align: right;\n",
       "    }\n",
       "</style>\n",
       "<table border=\"1\" class=\"dataframe\">\n",
       "  <thead>\n",
       "    <tr style=\"text-align: right;\">\n",
       "      <th></th>\n",
       "      <th>name</th>\n",
       "      <th>approx_cost(for two people)</th>\n",
       "    </tr>\n",
       "  </thead>\n",
       "  <tbody>\n",
       "    <tr>\n",
       "      <th>0</th>\n",
       "      <td>Addhuri Udupi Bhojana</td>\n",
       "      <td>300</td>\n",
       "    </tr>\n",
       "    <tr>\n",
       "      <th>1</th>\n",
       "      <td>Caf-Eleven</td>\n",
       "      <td>450</td>\n",
       "    </tr>\n",
       "    <tr>\n",
       "      <th>2</th>\n",
       "      <td>T3H Cafe</td>\n",
       "      <td>300</td>\n",
       "    </tr>\n",
       "    <tr>\n",
       "      <th>3</th>\n",
       "      <td>360 Atoms Restaurant And Cafe</td>\n",
       "      <td>400</td>\n",
       "    </tr>\n",
       "    <tr>\n",
       "      <th>4</th>\n",
       "      <td>The Vintage Cafe</td>\n",
       "      <td>400</td>\n",
       "    </tr>\n",
       "  </tbody>\n",
       "</table>\n",
       "</div>"
      ],
      "text/plain": [
       "                            name  approx_cost(for two people)\n",
       "0          Addhuri Udupi Bhojana                          300\n",
       "1                     Caf-Eleven                          450\n",
       "2                       T3H Cafe                          300\n",
       "3  360 Atoms Restaurant And Cafe                          400\n",
       "4               The Vintage Cafe                          400"
      ]
     },
     "execution_count": 76,
     "metadata": {},
     "output_type": "execute_result"
    }
   ],
   "source": [
    "df_budget=data[data['approx_cost(for two people)']<500][['approx_cost(for two people)']]\n",
    "df_budget = df_budget.reset_index()\n",
    "df_budget.head()"
   ]
  },
  {
   "cell_type": "code",
   "execution_count": 77,
   "id": "fddfffc2",
   "metadata": {},
   "outputs": [
    {
     "data": {
      "text/plain": [
       "<Axes: >"
      ]
     },
     "execution_count": 77,
     "metadata": {},
     "output_type": "execute_result"
    },
    {
     "data": {
      "image/png": "[encoded data removed]",
      "text/plain": [
       "<Figure size 640x480 with 1 Axes>"
      ]
     },
     "metadata": {},
     "output_type": "display_data"
    }
   ],
   "source": [
    "df_budget['approx_cost(for two people)'].value_counts().plot.bar()"
   ]
  },
  {
   "cell_type": "markdown",
   "id": "7f38de74",
   "metadata": {},
   "source": [
    "We can conclude that 300 and 400 cost dishes are maximum in count"
   ]
  },
  {
   "cell_type": "markdown",
   "id": "932b3dd1",
   "metadata": {},
   "source": [
    "Restaurants that have better rating >4 and that are under budget too"
   ]
  },
  {
   "cell_type": "code",
   "execution_count": 78,
   "id": "16a02175",
   "metadata": {},
   "outputs": [
    {
     "data": {
      "text/html": [
       "<div>\n",
       "<style scoped>\n",
       "    .dataframe tbody tr th:only-of-type {\n",
       "        vertical-align: middle;\n",
       "    }\n",
       "\n",
       "    .dataframe tbody tr th {\n",
       "        vertical-align: top;\n",
       "    }\n",
       "\n",
       "    .dataframe thead th {\n",
       "        text-align: right;\n",
       "    }\n",
       "</style>\n",
       "<table border=\"1\" class=\"dataframe\">\n",
       "  <thead>\n",
       "    <tr style=\"text-align: right;\">\n",
       "      <th></th>\n",
       "      <th>url</th>\n",
       "      <th>address</th>\n",
       "      <th>online_order</th>\n",
       "      <th>book_table</th>\n",
       "      <th>rate</th>\n",
       "      <th>votes</th>\n",
       "      <th>phone</th>\n",
       "      <th>location</th>\n",
       "      <th>rest_type</th>\n",
       "      <th>dish_liked</th>\n",
       "      <th>cuisines</th>\n",
       "      <th>approx_cost(for two people)</th>\n",
       "      <th>reviews_list</th>\n",
       "      <th>menu_item</th>\n",
       "      <th>listed_in(type)</th>\n",
       "      <th>listed_in(city)</th>\n",
       "    </tr>\n",
       "    <tr>\n",
       "      <th>name</th>\n",
       "      <th></th>\n",
       "      <th></th>\n",
       "      <th></th>\n",
       "      <th></th>\n",
       "      <th></th>\n",
       "      <th></th>\n",
       "      <th></th>\n",
       "      <th></th>\n",
       "      <th></th>\n",
       "      <th></th>\n",
       "      <th></th>\n",
       "      <th></th>\n",
       "      <th></th>\n",
       "      <th></th>\n",
       "      <th></th>\n",
       "      <th></th>\n",
       "    </tr>\n",
       "  </thead>\n",
       "  <tbody>\n",
       "    <tr>\n",
       "      <th>Jalsa</th>\n",
       "      <td>https://www.zomato.com/bangalore/jalsa-banasha...</td>\n",
       "      <td>942, 21st Main Road, 2nd Stage, Banashankari, ...</td>\n",
       "      <td>Yes</td>\n",
       "      <td>Yes</td>\n",
       "      <td>4.1</td>\n",
       "      <td>775</td>\n",
       "      <td>080 42297555\\r\\n+91 9743772233</td>\n",
       "      <td>Banashankari</td>\n",
       "      <td>Casual Dining</td>\n",
       "      <td>Pasta, Lunch Buffet, Masala Papad, Paneer Laja...</td>\n",
       "      <td>North Indian, Mughlai, Chinese</td>\n",
       "      <td>800</td>\n",
       "      <td>[('Rated 4.0', 'RATED\\n  A beautiful place to ...</td>\n",
       "      <td>[]</td>\n",
       "      <td>Buffet</td>\n",
       "      <td>Banashankari</td>\n",
       "    </tr>\n",
       "  </tbody>\n",
       "</table>\n",
       "</div>"
      ],
      "text/plain": [
       "                                                     url  \\\n",
       "name                                                       \n",
       "Jalsa  https://www.zomato.com/bangalore/jalsa-banasha...   \n",
       "\n",
       "                                                 address online_order  \\\n",
       "name                                                                    \n",
       "Jalsa  942, 21st Main Road, 2nd Stage, Banashankari, ...          Yes   \n",
       "\n",
       "      book_table  rate  votes                           phone      location  \\\n",
       "name                                                                          \n",
       "Jalsa        Yes   4.1    775  080 42297555\\r\\n+91 9743772233  Banashankari   \n",
       "\n",
       "           rest_type                                         dish_liked  \\\n",
       "name                                                                      \n",
       "Jalsa  Casual Dining  Pasta, Lunch Buffet, Masala Papad, Paneer Laja...   \n",
       "\n",
       "                             cuisines  approx_cost(for two people)  \\\n",
       "name                                                                 \n",
       "Jalsa  North Indian, Mughlai, Chinese                          800   \n",
       "\n",
       "                                            reviews_list menu_item  \\\n",
       "name                                                                 \n",
       "Jalsa  [('Rated 4.0', 'RATED\\n  A beautiful place to ...        []   \n",
       "\n",
       "      listed_in(type) listed_in(city)  \n",
       "name                                   \n",
       "Jalsa          Buffet    Banashankari  "
      ]
     },
     "execution_count": 78,
     "metadata": {},
     "output_type": "execute_result"
    }
   ],
   "source": [
    "data.head(1)"
   ]
  },
  {
   "cell_type": "code",
   "execution_count": 83,
   "id": "030dcbb6",
   "metadata": {},
   "outputs": [
    {
     "data": {
      "text/plain": [
       "(2436, 17)"
      ]
     },
     "execution_count": 83,
     "metadata": {},
     "output_type": "execute_result"
    }
   ],
   "source": [
    "df[(df['rate']>4)&(df['approx_cost(for two people)']<=500)].shape"
   ]
  },
  {
   "cell_type": "code",
   "execution_count": 86,
   "id": "3d3eabee",
   "metadata": {},
   "outputs": [
    {
     "data": {
      "text/plain": [
       "372"
      ]
     },
     "execution_count": 86,
     "metadata": {},
     "output_type": "execute_result"
    }
   ],
   "source": [
    "df_new = df[(df['rate']>4)&(df['approx_cost(for two people)']<=500)]\n",
    "len(df_new['name'].unique())"
   ]
  },
  {
   "cell_type": "markdown",
   "id": "6f7afd32",
   "metadata": {},
   "source": [
    "Total such various affordable hotels at different location"
   ]
  },
  {
   "cell_type": "code",
   "execution_count": 88,
   "id": "425a23e5",
   "metadata": {},
   "outputs": [],
   "source": [
    "location = []\n",
    "total = []\n",
    "for loc,location_df in df_new.groupby('location'):\n",
    "    location.append(loc)\n",
    "    total.append(len(location_df['name'].unique()))"
   ]
  },
  {
   "cell_type": "code",
   "execution_count": 89,
   "id": "e4ba75d0",
   "metadata": {},
   "outputs": [
    {
     "data": {
      "text/plain": [
       "60"
      ]
     },
     "execution_count": 89,
     "metadata": {},
     "output_type": "execute_result"
    }
   ],
   "source": [
    "len(location)"
   ]
  },
  {
   "cell_type": "code",
   "execution_count": 90,
   "id": "4800b822",
   "metadata": {},
   "outputs": [
    {
     "data": {
      "text/plain": [
       "60"
      ]
     },
     "execution_count": 90,
     "metadata": {},
     "output_type": "execute_result"
    }
   ],
   "source": [
    "len(total)"
   ]
  },
  {
   "cell_type": "code",
   "execution_count": 91,
   "id": "cb708033",
   "metadata": {},
   "outputs": [],
   "source": [
    "location_df = pd.DataFrame(zip(location,total))\n",
    "location_df.columns = ['location','resturant']\n",
    "location_df.set_index('location',inplace=True)"
   ]
  },
  {
   "cell_type": "code",
   "execution_count": 92,
   "id": "6129b49b",
   "metadata": {},
   "outputs": [
    {
     "data": {
      "text/html": [
       "<div>\n",
       "<style scoped>\n",
       "    .dataframe tbody tr th:only-of-type {\n",
       "        vertical-align: middle;\n",
       "    }\n",
       "\n",
       "    .dataframe tbody tr th {\n",
       "        vertical-align: top;\n",
       "    }\n",
       "\n",
       "    .dataframe thead th {\n",
       "        text-align: right;\n",
       "    }\n",
       "</style>\n",
       "<table border=\"1\" class=\"dataframe\">\n",
       "  <thead>\n",
       "    <tr style=\"text-align: right;\">\n",
       "      <th></th>\n",
       "      <th>resturant</th>\n",
       "    </tr>\n",
       "    <tr>\n",
       "      <th>location</th>\n",
       "      <th></th>\n",
       "    </tr>\n",
       "  </thead>\n",
       "  <tbody>\n",
       "    <tr>\n",
       "      <th>BTM</th>\n",
       "      <td>28</td>\n",
       "    </tr>\n",
       "    <tr>\n",
       "      <th>Banashankari</th>\n",
       "      <td>16</td>\n",
       "    </tr>\n",
       "    <tr>\n",
       "      <th>Banaswadi</th>\n",
       "      <td>1</td>\n",
       "    </tr>\n",
       "    <tr>\n",
       "      <th>Bannerghatta Road</th>\n",
       "      <td>9</td>\n",
       "    </tr>\n",
       "    <tr>\n",
       "      <th>Basavanagudi</th>\n",
       "      <td>24</td>\n",
       "    </tr>\n",
       "  </tbody>\n",
       "</table>\n",
       "</div>"
      ],
      "text/plain": [
       "                   resturant\n",
       "location                    \n",
       "BTM                       28\n",
       "Banashankari              16\n",
       "Banaswadi                  1\n",
       "Bannerghatta Road          9\n",
       "Basavanagudi              24"
      ]
     },
     "execution_count": 92,
     "metadata": {},
     "output_type": "execute_result"
    }
   ],
   "source": [
    "location_df.head()"
   ]
  },
  {
   "cell_type": "code",
   "execution_count": 94,
   "id": "c1e147a4",
   "metadata": {},
   "outputs": [
    {
     "data": {
      "text/plain": [
       "Text(0, 0.5, 'Total Resturants')"
      ]
     },
     "execution_count": 94,
     "metadata": {},
     "output_type": "execute_result"
    },
    {
     "data": {
      "image/png": "[encoded data removed]",
      "text/plain": [
       "<Figure size 640x480 with 1 Axes>"
      ]
     },
     "metadata": {},
     "output_type": "display_data"
    }
   ],
   "source": [
    "location_df['resturant'].nlargest(10).plot.bar()\n",
    "plt.ylabel('Total Resturants')"
   ]
  },
  {
   "cell_type": "markdown",
   "id": "3bdb8f06",
   "metadata": {},
   "source": [
    "Finding Best budget Restaurants in any location"
   ]
  },
  {
   "cell_type": "code",
   "execution_count": 103,
   "id": "ab8e2e4b",
   "metadata": {},
   "outputs": [],
   "source": [
    "def return_budget(location,resturant):\n",
    "    budget = df[(df['approx_cost(for two people)']<=400)&(df['rest_type']==resturant)&(df['location']==location)&(df['rate']>4)]\n",
    "    return(budget['name'].unique())"
   ]
  },
  {
   "cell_type": "code",
   "execution_count": 104,
   "id": "1750ef17",
   "metadata": {},
   "outputs": [
    {
     "data": {
      "text/plain": [
       "array(['Swadista Aahar', 'Litti Twist', 'The Shawarma Shop', 'Gorbandh',\n",
       "       'Yum In My Tum', 'Chaatimes', \"Muthashy's\", 'Swad Punjab Da',\n",
       "       \"Domino's Pizza\", 'Roti Wala', 'Andhra Kitchen'], dtype=object)"
      ]
     },
     "execution_count": 104,
     "metadata": {},
     "output_type": "execute_result"
    }
   ],
   "source": [
    "return_budget('BTM','Quick Bites')"
   ]
  },
  {
   "cell_type": "markdown",
   "id": "ca96fe93",
   "metadata": {},
   "source": [
    "Which are the foodie areas?"
   ]
  },
  {
   "cell_type": "code",
   "execution_count": 106,
   "id": "10928e98",
   "metadata": {},
   "outputs": [
    {
     "data": {
      "text/plain": [
       "<Axes: xlabel='location'>"
      ]
     },
     "execution_count": 106,
     "metadata": {},
     "output_type": "execute_result"
    },
    {
     "data": {
      "image/png": "[encoded data removed]",
      "text/plain": [
       "<Figure size 1000x700 with 1 Axes>"
      ]
     },
     "metadata": {},
     "output_type": "display_data"
    }
   ],
   "source": [
    "plt.figure(figsize=(10,7))\n",
    "Resturants_location = df['location'].value_counts()[:20]\n",
    "sns.barplot(x=Resturants_location,y=Resturants_location.index)"
   ]
  },
  {
   "cell_type": "markdown",
   "id": "c510bdd8",
   "metadata": {},
   "source": [
    "We can see that BTM,HSR and Koranmangala 5th block has the most number of restaurants.\n",
    "BTM dominates the section by having more than 5000 restaurants."
   ]
  }
 ],
 "metadata": {
  "kernelspec": {
   "display_name": "Python 3 (ipykernel)",
   "language": "python",
   "name": "python3"
  },
  "language_info": {
   "codemirror_mode": {
    "name": "ipython",
    "version": 3
   },
   "file_extension": ".py",
   "mimetype": "text/x-python",
   "name": "python",
   "nbconvert_exporter": "python",
   "pygments_lexer": "ipython3",
   "version": "3.10.9"
  }
 },
 "nbformat": 4,
 "nbformat_minor": 5
}
